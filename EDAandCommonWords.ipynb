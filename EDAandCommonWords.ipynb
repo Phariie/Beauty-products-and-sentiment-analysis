{
 "cells": [
  {
   "cell_type": "code",
   "execution_count": 1,
   "id": "7d65247c-be6b-4d1c-8e08-2b994e659686",
   "metadata": {},
   "outputs": [],
   "source": [
    "import pandas as pd\n",
    "import re\n",
    "from collections import Counter\n",
    "import matplotlib.pyplot as plt\n",
    "import seaborn as sns\n",
    "from sklearn.dummy import DummyClassifier"
   ]
  },
  {
   "cell_type": "code",
   "execution_count": 2,
   "id": "0265b1d6-223a-4c67-88e8-85c16d5e6b2e",
   "metadata": {},
   "outputs": [],
   "source": [
    "product_info = pd.read_csv('Datasets/product_info.csv')"
   ]
  },
  {
   "cell_type": "code",
   "execution_count": 3,
   "id": "c2bf861a-acdc-46c6-93e3-3c2030a1dcbc",
   "metadata": {
    "scrolled": true
   },
   "outputs": [
    {
     "data": {
      "text/html": [
       "<div>\n",
       "<style scoped>\n",
       "    .dataframe tbody tr th:only-of-type {\n",
       "        vertical-align: middle;\n",
       "    }\n",
       "\n",
       "    .dataframe tbody tr th {\n",
       "        vertical-align: top;\n",
       "    }\n",
       "\n",
       "    .dataframe thead th {\n",
       "        text-align: right;\n",
       "    }\n",
       "</style>\n",
       "<table border=\"1\" class=\"dataframe\">\n",
       "  <thead>\n",
       "    <tr style=\"text-align: right;\">\n",
       "      <th></th>\n",
       "      <th>product_id</th>\n",
       "      <th>product_name</th>\n",
       "      <th>brand_id</th>\n",
       "      <th>brand_name</th>\n",
       "      <th>loves_count</th>\n",
       "      <th>rating</th>\n",
       "      <th>reviews</th>\n",
       "      <th>size</th>\n",
       "      <th>variation_type</th>\n",
       "      <th>variation_value</th>\n",
       "      <th>...</th>\n",
       "      <th>online_only</th>\n",
       "      <th>out_of_stock</th>\n",
       "      <th>sephora_exclusive</th>\n",
       "      <th>highlights</th>\n",
       "      <th>primary_category</th>\n",
       "      <th>secondary_category</th>\n",
       "      <th>tertiary_category</th>\n",
       "      <th>child_count</th>\n",
       "      <th>child_max_price</th>\n",
       "      <th>child_min_price</th>\n",
       "    </tr>\n",
       "  </thead>\n",
       "  <tbody>\n",
       "    <tr>\n",
       "      <th>0</th>\n",
       "      <td>P473671</td>\n",
       "      <td>Fragrance Discovery Set</td>\n",
       "      <td>6342</td>\n",
       "      <td>19-69</td>\n",
       "      <td>6320</td>\n",
       "      <td>3.6364</td>\n",
       "      <td>11.0</td>\n",
       "      <td>NaN</td>\n",
       "      <td>NaN</td>\n",
       "      <td>NaN</td>\n",
       "      <td>...</td>\n",
       "      <td>1</td>\n",
       "      <td>0</td>\n",
       "      <td>0</td>\n",
       "      <td>['Unisex/ Genderless Scent', 'Warm &amp;Spicy Scen...</td>\n",
       "      <td>Fragrance</td>\n",
       "      <td>Value &amp; Gift Sets</td>\n",
       "      <td>Perfume Gift Sets</td>\n",
       "      <td>0</td>\n",
       "      <td>NaN</td>\n",
       "      <td>NaN</td>\n",
       "    </tr>\n",
       "    <tr>\n",
       "      <th>1</th>\n",
       "      <td>P473668</td>\n",
       "      <td>La Habana Eau de Parfum</td>\n",
       "      <td>6342</td>\n",
       "      <td>19-69</td>\n",
       "      <td>3827</td>\n",
       "      <td>4.1538</td>\n",
       "      <td>13.0</td>\n",
       "      <td>3.4 oz/ 100 mL</td>\n",
       "      <td>Size + Concentration + Formulation</td>\n",
       "      <td>3.4 oz/ 100 mL</td>\n",
       "      <td>...</td>\n",
       "      <td>1</td>\n",
       "      <td>0</td>\n",
       "      <td>0</td>\n",
       "      <td>['Unisex/ Genderless Scent', 'Layerable Scent'...</td>\n",
       "      <td>Fragrance</td>\n",
       "      <td>Women</td>\n",
       "      <td>Perfume</td>\n",
       "      <td>2</td>\n",
       "      <td>85.0</td>\n",
       "      <td>30.0</td>\n",
       "    </tr>\n",
       "    <tr>\n",
       "      <th>2</th>\n",
       "      <td>P473662</td>\n",
       "      <td>Rainbow Bar Eau de Parfum</td>\n",
       "      <td>6342</td>\n",
       "      <td>19-69</td>\n",
       "      <td>3253</td>\n",
       "      <td>4.2500</td>\n",
       "      <td>16.0</td>\n",
       "      <td>3.4 oz/ 100 mL</td>\n",
       "      <td>Size + Concentration + Formulation</td>\n",
       "      <td>3.4 oz/ 100 mL</td>\n",
       "      <td>...</td>\n",
       "      <td>1</td>\n",
       "      <td>0</td>\n",
       "      <td>0</td>\n",
       "      <td>['Unisex/ Genderless Scent', 'Layerable Scent'...</td>\n",
       "      <td>Fragrance</td>\n",
       "      <td>Women</td>\n",
       "      <td>Perfume</td>\n",
       "      <td>2</td>\n",
       "      <td>75.0</td>\n",
       "      <td>30.0</td>\n",
       "    </tr>\n",
       "    <tr>\n",
       "      <th>3</th>\n",
       "      <td>P473660</td>\n",
       "      <td>Kasbah Eau de Parfum</td>\n",
       "      <td>6342</td>\n",
       "      <td>19-69</td>\n",
       "      <td>3018</td>\n",
       "      <td>4.4762</td>\n",
       "      <td>21.0</td>\n",
       "      <td>3.4 oz/ 100 mL</td>\n",
       "      <td>Size + Concentration + Formulation</td>\n",
       "      <td>3.4 oz/ 100 mL</td>\n",
       "      <td>...</td>\n",
       "      <td>1</td>\n",
       "      <td>0</td>\n",
       "      <td>0</td>\n",
       "      <td>['Unisex/ Genderless Scent', 'Layerable Scent'...</td>\n",
       "      <td>Fragrance</td>\n",
       "      <td>Women</td>\n",
       "      <td>Perfume</td>\n",
       "      <td>2</td>\n",
       "      <td>75.0</td>\n",
       "      <td>30.0</td>\n",
       "    </tr>\n",
       "    <tr>\n",
       "      <th>4</th>\n",
       "      <td>P473658</td>\n",
       "      <td>Purple Haze Eau de Parfum</td>\n",
       "      <td>6342</td>\n",
       "      <td>19-69</td>\n",
       "      <td>2691</td>\n",
       "      <td>3.2308</td>\n",
       "      <td>13.0</td>\n",
       "      <td>3.4 oz/ 100 mL</td>\n",
       "      <td>Size + Concentration + Formulation</td>\n",
       "      <td>3.4 oz/ 100 mL</td>\n",
       "      <td>...</td>\n",
       "      <td>1</td>\n",
       "      <td>0</td>\n",
       "      <td>0</td>\n",
       "      <td>['Unisex/ Genderless Scent', 'Layerable Scent'...</td>\n",
       "      <td>Fragrance</td>\n",
       "      <td>Women</td>\n",
       "      <td>Perfume</td>\n",
       "      <td>2</td>\n",
       "      <td>75.0</td>\n",
       "      <td>30.0</td>\n",
       "    </tr>\n",
       "    <tr>\n",
       "      <th>...</th>\n",
       "      <td>...</td>\n",
       "      <td>...</td>\n",
       "      <td>...</td>\n",
       "      <td>...</td>\n",
       "      <td>...</td>\n",
       "      <td>...</td>\n",
       "      <td>...</td>\n",
       "      <td>...</td>\n",
       "      <td>...</td>\n",
       "      <td>...</td>\n",
       "      <td>...</td>\n",
       "      <td>...</td>\n",
       "      <td>...</td>\n",
       "      <td>...</td>\n",
       "      <td>...</td>\n",
       "      <td>...</td>\n",
       "      <td>...</td>\n",
       "      <td>...</td>\n",
       "      <td>...</td>\n",
       "      <td>...</td>\n",
       "      <td>...</td>\n",
       "    </tr>\n",
       "    <tr>\n",
       "      <th>8489</th>\n",
       "      <td>P467659</td>\n",
       "      <td>Couture Clutch Eyeshadow Palette</td>\n",
       "      <td>1070</td>\n",
       "      <td>Yves Saint Laurent</td>\n",
       "      <td>2790</td>\n",
       "      <td>4.4286</td>\n",
       "      <td>7.0</td>\n",
       "      <td>NaN</td>\n",
       "      <td>NaN</td>\n",
       "      <td>NaN</td>\n",
       "      <td>...</td>\n",
       "      <td>0</td>\n",
       "      <td>0</td>\n",
       "      <td>0</td>\n",
       "      <td>NaN</td>\n",
       "      <td>Makeup</td>\n",
       "      <td>Eye</td>\n",
       "      <td>Eye Palettes</td>\n",
       "      <td>0</td>\n",
       "      <td>NaN</td>\n",
       "      <td>NaN</td>\n",
       "    </tr>\n",
       "    <tr>\n",
       "      <th>8490</th>\n",
       "      <td>P500874</td>\n",
       "      <td>L'Homme Eau de Parfum</td>\n",
       "      <td>1070</td>\n",
       "      <td>Yves Saint Laurent</td>\n",
       "      <td>2319</td>\n",
       "      <td>4.6367</td>\n",
       "      <td>556.0</td>\n",
       "      <td>2 oz / 60 mL</td>\n",
       "      <td>Size + Concentration + Formulation</td>\n",
       "      <td>2 oz / 60 mL eau de parfum spray</td>\n",
       "      <td>...</td>\n",
       "      <td>0</td>\n",
       "      <td>0</td>\n",
       "      <td>0</td>\n",
       "      <td>['Layerable Scent', 'Woody &amp; Earthy Scent']</td>\n",
       "      <td>Fragrance</td>\n",
       "      <td>Men</td>\n",
       "      <td>Cologne</td>\n",
       "      <td>1</td>\n",
       "      <td>129.0</td>\n",
       "      <td>129.0</td>\n",
       "    </tr>\n",
       "    <tr>\n",
       "      <th>8491</th>\n",
       "      <td>P504428</td>\n",
       "      <td>Mon Paris Eau de Parfum Gift Set</td>\n",
       "      <td>1070</td>\n",
       "      <td>Yves Saint Laurent</td>\n",
       "      <td>1475</td>\n",
       "      <td>5.0000</td>\n",
       "      <td>2.0</td>\n",
       "      <td>NaN</td>\n",
       "      <td>NaN</td>\n",
       "      <td>NaN</td>\n",
       "      <td>...</td>\n",
       "      <td>1</td>\n",
       "      <td>1</td>\n",
       "      <td>0</td>\n",
       "      <td>NaN</td>\n",
       "      <td>Fragrance</td>\n",
       "      <td>Value &amp; Gift Sets</td>\n",
       "      <td>Perfume Gift Sets</td>\n",
       "      <td>0</td>\n",
       "      <td>NaN</td>\n",
       "      <td>NaN</td>\n",
       "    </tr>\n",
       "    <tr>\n",
       "      <th>8492</th>\n",
       "      <td>P504448</td>\n",
       "      <td>Y Eau de Parfum Gift Set</td>\n",
       "      <td>1070</td>\n",
       "      <td>Yves Saint Laurent</td>\n",
       "      <td>840</td>\n",
       "      <td>NaN</td>\n",
       "      <td>NaN</td>\n",
       "      <td>NaN</td>\n",
       "      <td>NaN</td>\n",
       "      <td>NaN</td>\n",
       "      <td>...</td>\n",
       "      <td>1</td>\n",
       "      <td>0</td>\n",
       "      <td>0</td>\n",
       "      <td>NaN</td>\n",
       "      <td>Fragrance</td>\n",
       "      <td>Value &amp; Gift Sets</td>\n",
       "      <td>Cologne Gift Sets</td>\n",
       "      <td>0</td>\n",
       "      <td>NaN</td>\n",
       "      <td>NaN</td>\n",
       "    </tr>\n",
       "    <tr>\n",
       "      <th>8493</th>\n",
       "      <td>P505461</td>\n",
       "      <td>Candy Glaze Lip Gloss Stick Duo with Hyaluroni...</td>\n",
       "      <td>1070</td>\n",
       "      <td>Yves Saint Laurent</td>\n",
       "      <td>193</td>\n",
       "      <td>NaN</td>\n",
       "      <td>NaN</td>\n",
       "      <td>.11 oz / 3.2 mL</td>\n",
       "      <td>Color</td>\n",
       "      <td>NaN</td>\n",
       "      <td>...</td>\n",
       "      <td>1</td>\n",
       "      <td>0</td>\n",
       "      <td>1</td>\n",
       "      <td>['Hyaluronic Acid', 'High Shine Finish', 'Plum...</td>\n",
       "      <td>Makeup</td>\n",
       "      <td>Lip</td>\n",
       "      <td>Lip Gloss</td>\n",
       "      <td>0</td>\n",
       "      <td>NaN</td>\n",
       "      <td>NaN</td>\n",
       "    </tr>\n",
       "  </tbody>\n",
       "</table>\n",
       "<p>8494 rows × 27 columns</p>\n",
       "</div>"
      ],
      "text/plain": [
       "     product_id                                       product_name  brand_id  \\\n",
       "0       P473671                            Fragrance Discovery Set      6342   \n",
       "1       P473668                            La Habana Eau de Parfum      6342   \n",
       "2       P473662                          Rainbow Bar Eau de Parfum      6342   \n",
       "3       P473660                               Kasbah Eau de Parfum      6342   \n",
       "4       P473658                          Purple Haze Eau de Parfum      6342   \n",
       "...         ...                                                ...       ...   \n",
       "8489    P467659                   Couture Clutch Eyeshadow Palette      1070   \n",
       "8490    P500874                              L'Homme Eau de Parfum      1070   \n",
       "8491    P504428                   Mon Paris Eau de Parfum Gift Set      1070   \n",
       "8492    P504448                           Y Eau de Parfum Gift Set      1070   \n",
       "8493    P505461  Candy Glaze Lip Gloss Stick Duo with Hyaluroni...      1070   \n",
       "\n",
       "              brand_name  loves_count  rating  reviews             size  \\\n",
       "0                  19-69         6320  3.6364     11.0              NaN   \n",
       "1                  19-69         3827  4.1538     13.0   3.4 oz/ 100 mL   \n",
       "2                  19-69         3253  4.2500     16.0   3.4 oz/ 100 mL   \n",
       "3                  19-69         3018  4.4762     21.0   3.4 oz/ 100 mL   \n",
       "4                  19-69         2691  3.2308     13.0   3.4 oz/ 100 mL   \n",
       "...                  ...          ...     ...      ...              ...   \n",
       "8489  Yves Saint Laurent         2790  4.4286      7.0              NaN   \n",
       "8490  Yves Saint Laurent         2319  4.6367    556.0     2 oz / 60 mL   \n",
       "8491  Yves Saint Laurent         1475  5.0000      2.0              NaN   \n",
       "8492  Yves Saint Laurent          840     NaN      NaN              NaN   \n",
       "8493  Yves Saint Laurent          193     NaN      NaN  .11 oz / 3.2 mL   \n",
       "\n",
       "                          variation_type                   variation_value  \\\n",
       "0                                    NaN                               NaN   \n",
       "1     Size + Concentration + Formulation                    3.4 oz/ 100 mL   \n",
       "2     Size + Concentration + Formulation                    3.4 oz/ 100 mL   \n",
       "3     Size + Concentration + Formulation                    3.4 oz/ 100 mL   \n",
       "4     Size + Concentration + Formulation                    3.4 oz/ 100 mL   \n",
       "...                                  ...                               ...   \n",
       "8489                                 NaN                               NaN   \n",
       "8490  Size + Concentration + Formulation  2 oz / 60 mL eau de parfum spray   \n",
       "8491                                 NaN                               NaN   \n",
       "8492                                 NaN                               NaN   \n",
       "8493                               Color                               NaN   \n",
       "\n",
       "      ... online_only out_of_stock  sephora_exclusive  \\\n",
       "0     ...           1            0                  0   \n",
       "1     ...           1            0                  0   \n",
       "2     ...           1            0                  0   \n",
       "3     ...           1            0                  0   \n",
       "4     ...           1            0                  0   \n",
       "...   ...         ...          ...                ...   \n",
       "8489  ...           0            0                  0   \n",
       "8490  ...           0            0                  0   \n",
       "8491  ...           1            1                  0   \n",
       "8492  ...           1            0                  0   \n",
       "8493  ...           1            0                  1   \n",
       "\n",
       "                                             highlights  primary_category  \\\n",
       "0     ['Unisex/ Genderless Scent', 'Warm &Spicy Scen...         Fragrance   \n",
       "1     ['Unisex/ Genderless Scent', 'Layerable Scent'...         Fragrance   \n",
       "2     ['Unisex/ Genderless Scent', 'Layerable Scent'...         Fragrance   \n",
       "3     ['Unisex/ Genderless Scent', 'Layerable Scent'...         Fragrance   \n",
       "4     ['Unisex/ Genderless Scent', 'Layerable Scent'...         Fragrance   \n",
       "...                                                 ...               ...   \n",
       "8489                                                NaN            Makeup   \n",
       "8490        ['Layerable Scent', 'Woody & Earthy Scent']         Fragrance   \n",
       "8491                                                NaN         Fragrance   \n",
       "8492                                                NaN         Fragrance   \n",
       "8493  ['Hyaluronic Acid', 'High Shine Finish', 'Plum...            Makeup   \n",
       "\n",
       "      secondary_category  tertiary_category  child_count  child_max_price  \\\n",
       "0      Value & Gift Sets  Perfume Gift Sets            0              NaN   \n",
       "1                  Women            Perfume            2             85.0   \n",
       "2                  Women            Perfume            2             75.0   \n",
       "3                  Women            Perfume            2             75.0   \n",
       "4                  Women            Perfume            2             75.0   \n",
       "...                  ...                ...          ...              ...   \n",
       "8489                 Eye       Eye Palettes            0              NaN   \n",
       "8490                 Men            Cologne            1            129.0   \n",
       "8491   Value & Gift Sets  Perfume Gift Sets            0              NaN   \n",
       "8492   Value & Gift Sets  Cologne Gift Sets            0              NaN   \n",
       "8493                 Lip          Lip Gloss            0              NaN   \n",
       "\n",
       "      child_min_price  \n",
       "0                 NaN  \n",
       "1                30.0  \n",
       "2                30.0  \n",
       "3                30.0  \n",
       "4                30.0  \n",
       "...               ...  \n",
       "8489              NaN  \n",
       "8490            129.0  \n",
       "8491              NaN  \n",
       "8492              NaN  \n",
       "8493              NaN  \n",
       "\n",
       "[8494 rows x 27 columns]"
      ]
     },
     "execution_count": 3,
     "metadata": {},
     "output_type": "execute_result"
    }
   ],
   "source": [
    "product_info"
   ]
  },
  {
   "cell_type": "code",
   "execution_count": 4,
   "id": "8d871a8b-82be-4f81-8d22-fc6ecc64f07a",
   "metadata": {},
   "outputs": [
    {
     "data": {
      "text/plain": [
       "Index(['product_id', 'product_name', 'brand_id', 'brand_name', 'loves_count',\n",
       "       'rating', 'reviews', 'size', 'variation_type', 'variation_value',\n",
       "       'variation_desc', 'ingredients', 'price_usd', 'value_price_usd',\n",
       "       'sale_price_usd', 'limited_edition', 'new', 'online_only',\n",
       "       'out_of_stock', 'sephora_exclusive', 'highlights', 'primary_category',\n",
       "       'secondary_category', 'tertiary_category', 'child_count',\n",
       "       'child_max_price', 'child_min_price'],\n",
       "      dtype='object')"
      ]
     },
     "execution_count": 4,
     "metadata": {},
     "output_type": "execute_result"
    }
   ],
   "source": [
    "product_info.columns"
   ]
  },
  {
   "cell_type": "markdown",
   "id": "cb5c3ab9-4772-48d2-8df1-dfe7c180cd4c",
   "metadata": {},
   "source": [
    "## Checking for nulls"
   ]
  },
  {
   "cell_type": "code",
   "execution_count": 6,
   "id": "b1378486-003d-4a08-a952-a83701ff8e5c",
   "metadata": {
    "scrolled": true
   },
   "outputs": [
    {
     "data": {
      "text/plain": [
       "product_id               0\n",
       "product_name             0\n",
       "brand_id                 0\n",
       "brand_name               0\n",
       "loves_count              0\n",
       "rating                 278\n",
       "reviews                278\n",
       "size                  1631\n",
       "variation_type        1444\n",
       "variation_value       1598\n",
       "variation_desc        7244\n",
       "ingredients            945\n",
       "price_usd                0\n",
       "value_price_usd       8043\n",
       "sale_price_usd        8224\n",
       "limited_edition          0\n",
       "new                      0\n",
       "online_only              0\n",
       "out_of_stock             0\n",
       "sephora_exclusive        0\n",
       "highlights            2207\n",
       "primary_category         0\n",
       "secondary_category       8\n",
       "tertiary_category      990\n",
       "child_count              0\n",
       "child_max_price       5740\n",
       "child_min_price       5740\n",
       "dtype: int64"
      ]
     },
     "execution_count": 6,
     "metadata": {},
     "output_type": "execute_result"
    }
   ],
   "source": [
    "product_info.isnull().sum()"
   ]
  },
  {
   "cell_type": "code",
   "execution_count": 7,
   "id": "c4bb640b-4b15-460d-9401-f9c295eb6ae5",
   "metadata": {},
   "outputs": [],
   "source": [
    "product_info.dropna(axis = 0, subset=['rating', 'reviews' , 'secondary_category'], inplace = True)"
   ]
  },
  {
   "cell_type": "markdown",
   "id": "e2b042aa-23a2-4585-ad91-62b909fe2f69",
   "metadata": {},
   "source": [
    "## Drop unwanted columns"
   ]
  },
  {
   "cell_type": "code",
   "execution_count": 11,
   "id": "a84885e6-349a-4abc-9bb5-af2ca54caf93",
   "metadata": {},
   "outputs": [],
   "source": [
    "product_info.drop(['new','out_of_stock','tertiary_category','variation_type','value_price_usd', 'variation_value', 'variation_desc','sale_price_usd','child_count', 'child_max_price', 'child_min_price', 'variation_desc'], axis = 1 , inplace = True )"
   ]
  },
  {
   "cell_type": "code",
   "execution_count": 13,
   "id": "cb3c9565-86ca-4469-af0c-89ef74483dd1",
   "metadata": {},
   "outputs": [
    {
     "data": {
      "text/plain": [
       "(8209, 16)"
      ]
     },
     "execution_count": 13,
     "metadata": {},
     "output_type": "execute_result"
    }
   ],
   "source": [
    "product_info.shape"
   ]
  },
  {
   "cell_type": "code",
   "execution_count": 15,
   "id": "644012c9-7537-4819-929a-64fef613331a",
   "metadata": {},
   "outputs": [
    {
     "data": {
      "text/plain": [
       "Index(['product_id', 'product_name', 'brand_id', 'brand_name', 'loves_count',\n",
       "       'rating', 'reviews', 'size', 'ingredients', 'price_usd',\n",
       "       'limited_edition', 'online_only', 'sephora_exclusive', 'highlights',\n",
       "       'primary_category', 'secondary_category'],\n",
       "      dtype='object')"
      ]
     },
     "execution_count": 15,
     "metadata": {},
     "output_type": "execute_result"
    }
   ],
   "source": [
    "product_info.columns"
   ]
  },
  {
   "cell_type": "markdown",
   "id": "47dc3f2c-4a2b-4699-a507-68d7fab2e3e4",
   "metadata": {},
   "source": [
    "### Checking Outliers "
   ]
  },
  {
   "cell_type": "code",
   "execution_count": 17,
   "id": "16f7dc99-f00b-4e47-a6e3-b03d0860c136",
   "metadata": {},
   "outputs": [
    {
     "data": {
      "image/png": "[encoded data removed]",
      "text/plain": [
       "<Figure size 1000x500 with 1 Axes>"
      ]
     },
     "metadata": {},
     "output_type": "display_data"
    }
   ],
   "source": [
    "plt.figure(figsize=(10, 5))\n",
    "product_info.boxplot(column =['loves_count'])\n",
    "plt.title(\"Boxplot of Loves Counts\")\n",
    "plt.ylabel(\"Values\")\n",
    "plt.show()"
   ]
  },
  {
   "cell_type": "code",
   "execution_count": 19,
   "id": "4ec525d3-41f1-4c62-98bc-b63b02e3016d",
   "metadata": {},
   "outputs": [],
   "source": [
    "#removing one row that has only Blush as its name\n",
    "product_info = product_info[~product_info['product_name'].str.contains('Blush', case=False, na=False)]"
   ]
  },
  {
   "cell_type": "code",
   "execution_count": 21,
   "id": "e5ce81a8-15bc-4927-9a0e-a6dd014d88dd",
   "metadata": {},
   "outputs": [],
   "source": [
    "# Replace 'Makeup' with 'Tools & Brushes' in primary_category where secondary_category is 'Brushes & Applicators'\n",
    "product_info.loc[product_info['secondary_category'] == 'Brushes & Applicators', 'primary_category'] = \\\n",
    "product_info.loc[product_info['secondary_category'] == 'Brushes & Applicators', 'primary_category'].replace('Makeup', 'Tools & Brushes')"
   ]
  },
  {
   "cell_type": "code",
   "execution_count": 23,
   "id": "3edf3b73-6b74-4f14-b8cb-0a0cd3b0dbc7",
   "metadata": {},
   "outputs": [
    {
     "data": {
      "text/html": [
       "<div>\n",
       "<style scoped>\n",
       "    .dataframe tbody tr th:only-of-type {\n",
       "        vertical-align: middle;\n",
       "    }\n",
       "\n",
       "    .dataframe tbody tr th {\n",
       "        vertical-align: top;\n",
       "    }\n",
       "\n",
       "    .dataframe thead th {\n",
       "        text-align: right;\n",
       "    }\n",
       "</style>\n",
       "<table border=\"1\" class=\"dataframe\">\n",
       "  <thead>\n",
       "    <tr style=\"text-align: right;\">\n",
       "      <th></th>\n",
       "      <th>brand_id</th>\n",
       "      <th>loves_count</th>\n",
       "      <th>rating</th>\n",
       "      <th>reviews</th>\n",
       "      <th>price_usd</th>\n",
       "      <th>limited_edition</th>\n",
       "      <th>online_only</th>\n",
       "      <th>sephora_exclusive</th>\n",
       "    </tr>\n",
       "  </thead>\n",
       "  <tbody>\n",
       "    <tr>\n",
       "      <th>count</th>\n",
       "      <td>8067.000000</td>\n",
       "      <td>8.067000e+03</td>\n",
       "      <td>8067.000000</td>\n",
       "      <td>8067.000000</td>\n",
       "      <td>8067.000000</td>\n",
       "      <td>8067.000000</td>\n",
       "      <td>8067.000000</td>\n",
       "      <td>8067.000000</td>\n",
       "    </tr>\n",
       "    <tr>\n",
       "      <th>mean</th>\n",
       "      <td>5421.890666</td>\n",
       "      <td>2.947507e+04</td>\n",
       "      <td>4.192363</td>\n",
       "      <td>446.267634</td>\n",
       "      <td>51.470327</td>\n",
       "      <td>0.060989</td>\n",
       "      <td>0.210983</td>\n",
       "      <td>0.279534</td>\n",
       "    </tr>\n",
       "    <tr>\n",
       "      <th>std</th>\n",
       "      <td>1712.799719</td>\n",
       "      <td>6.453343e+04</td>\n",
       "      <td>0.517542</td>\n",
       "      <td>1087.647625</td>\n",
       "      <td>53.758298</td>\n",
       "      <td>0.239325</td>\n",
       "      <td>0.408032</td>\n",
       "      <td>0.448798</td>\n",
       "    </tr>\n",
       "    <tr>\n",
       "      <th>min</th>\n",
       "      <td>1063.000000</td>\n",
       "      <td>0.000000e+00</td>\n",
       "      <td>1.000000</td>\n",
       "      <td>1.000000</td>\n",
       "      <td>3.000000</td>\n",
       "      <td>0.000000</td>\n",
       "      <td>0.000000</td>\n",
       "      <td>0.000000</td>\n",
       "    </tr>\n",
       "    <tr>\n",
       "      <th>25%</th>\n",
       "      <td>5333.000000</td>\n",
       "      <td>4.115000e+03</td>\n",
       "      <td>3.978350</td>\n",
       "      <td>26.000000</td>\n",
       "      <td>25.000000</td>\n",
       "      <td>0.000000</td>\n",
       "      <td>0.000000</td>\n",
       "      <td>0.000000</td>\n",
       "    </tr>\n",
       "    <tr>\n",
       "      <th>50%</th>\n",
       "      <td>6156.000000</td>\n",
       "      <td>1.030300e+04</td>\n",
       "      <td>4.286900</td>\n",
       "      <td>122.000000</td>\n",
       "      <td>35.000000</td>\n",
       "      <td>0.000000</td>\n",
       "      <td>0.000000</td>\n",
       "      <td>0.000000</td>\n",
       "    </tr>\n",
       "    <tr>\n",
       "      <th>75%</th>\n",
       "      <td>6327.000000</td>\n",
       "      <td>2.729350e+04</td>\n",
       "      <td>4.528850</td>\n",
       "      <td>417.500000</td>\n",
       "      <td>58.000000</td>\n",
       "      <td>0.000000</td>\n",
       "      <td>0.000000</td>\n",
       "      <td>1.000000</td>\n",
       "    </tr>\n",
       "    <tr>\n",
       "      <th>max</th>\n",
       "      <td>8020.000000</td>\n",
       "      <td>1.153594e+06</td>\n",
       "      <td>5.000000</td>\n",
       "      <td>21281.000000</td>\n",
       "      <td>1900.000000</td>\n",
       "      <td>1.000000</td>\n",
       "      <td>1.000000</td>\n",
       "      <td>1.000000</td>\n",
       "    </tr>\n",
       "  </tbody>\n",
       "</table>\n",
       "</div>"
      ],
      "text/plain": [
       "          brand_id   loves_count       rating       reviews    price_usd  \\\n",
       "count  8067.000000  8.067000e+03  8067.000000   8067.000000  8067.000000   \n",
       "mean   5421.890666  2.947507e+04     4.192363    446.267634    51.470327   \n",
       "std    1712.799719  6.453343e+04     0.517542   1087.647625    53.758298   \n",
       "min    1063.000000  0.000000e+00     1.000000      1.000000     3.000000   \n",
       "25%    5333.000000  4.115000e+03     3.978350     26.000000    25.000000   \n",
       "50%    6156.000000  1.030300e+04     4.286900    122.000000    35.000000   \n",
       "75%    6327.000000  2.729350e+04     4.528850    417.500000    58.000000   \n",
       "max    8020.000000  1.153594e+06     5.000000  21281.000000  1900.000000   \n",
       "\n",
       "       limited_edition  online_only  sephora_exclusive  \n",
       "count      8067.000000  8067.000000        8067.000000  \n",
       "mean          0.060989     0.210983           0.279534  \n",
       "std           0.239325     0.408032           0.448798  \n",
       "min           0.000000     0.000000           0.000000  \n",
       "25%           0.000000     0.000000           0.000000  \n",
       "50%           0.000000     0.000000           0.000000  \n",
       "75%           0.000000     0.000000           1.000000  \n",
       "max           1.000000     1.000000           1.000000  "
      ]
     },
     "execution_count": 23,
     "metadata": {},
     "output_type": "execute_result"
    }
   ],
   "source": [
    "product_info.describe()"
   ]
  },
  {
   "cell_type": "code",
   "execution_count": 32,
   "id": "aec9f297-0ccb-4010-878a-44f9de8cb3b1",
   "metadata": {},
   "outputs": [
    {
     "data": {
      "text/plain": [
       "product_id               0\n",
       "product_name             0\n",
       "brand_id                 0\n",
       "brand_name               0\n",
       "loves_count              0\n",
       "rating                   0\n",
       "reviews                  0\n",
       "size                  1484\n",
       "ingredients              0\n",
       "price_usd                0\n",
       "limited_edition          0\n",
       "online_only              0\n",
       "sephora_exclusive        0\n",
       "highlights               0\n",
       "primary_category         0\n",
       "secondary_category       0\n",
       "dtype: int64"
      ]
     },
     "execution_count": 32,
     "metadata": {},
     "output_type": "execute_result"
    }
   ],
   "source": [
    "product_info.isnull().sum()"
   ]
  },
  {
   "cell_type": "code",
   "execution_count": 27,
   "id": "008c47af-bf7a-47e4-83f6-b4e7594871fb",
   "metadata": {},
   "outputs": [],
   "source": [
    "product_info.loc[:, 'highlights'] = product_info['highlights'].fillna(\"Not Mentioned\")"
   ]
  },
  {
   "cell_type": "code",
   "execution_count": 34,
   "id": "e1acd8a8-9575-472a-b7f1-83927449fb18",
   "metadata": {},
   "outputs": [],
   "source": [
    "product_info.loc[:, 'highlights'] = product_info['highlights'].fillna(\"Not applicable\")"
   ]
  },
  {
   "cell_type": "code",
   "execution_count": 30,
   "id": "c94db989-adf4-45ba-86e3-284e8bf29449",
   "metadata": {},
   "outputs": [],
   "source": [
    "product_info.loc[:, 'ingredients'] = product_info['ingredients'].fillna(\"Not specify\")"
   ]
  },
  {
   "cell_type": "code",
   "execution_count": 36,
   "id": "a9d37af3-748f-4f82-bbd7-a677f84a4cf9",
   "metadata": {},
   "outputs": [],
   "source": [
    "product_info.to_csv('product_info_clean.csv', index = False)"
   ]
  },
  {
   "cell_type": "code",
   "execution_count": null,
   "id": "98d4e4a4-1795-49ef-851a-81f935af6c14",
   "metadata": {},
   "outputs": [],
   "source": []
  },
  {
   "cell_type": "markdown",
   "id": "e2a006e8-5f4f-4bc2-a8da-2ff6decfc4eb",
   "metadata": {},
   "source": [
    "## Reviews Datasets EDA"
   ]
  },
  {
   "cell_type": "code",
   "execution_count": 20,
   "id": "8cdf432d-b55e-4193-8fee-ccb2a35d2b5c",
   "metadata": {},
   "outputs": [],
   "source": [
    "reviews250 = pd.read_csv(\"Datasets/reviews_0-250.csv\", dtype={'author_id': 'str'})"
   ]
  },
  {
   "cell_type": "code",
   "execution_count": 21,
   "id": "1522686a-702b-45a9-9e22-9b8a435582de",
   "metadata": {},
   "outputs": [
    {
     "data": {
      "text/plain": [
       "(602130, 19)"
      ]
     },
     "execution_count": 21,
     "metadata": {},
     "output_type": "execute_result"
    }
   ],
   "source": [
    "reviews250.shape"
   ]
  },
  {
   "cell_type": "code",
   "execution_count": 22,
   "id": "371d9e3c-5bbf-4e84-8df2-2f1320d47714",
   "metadata": {},
   "outputs": [
    {
     "data": {
      "text/plain": [
       "Unnamed: 0                       0\n",
       "author_id                        0\n",
       "rating                           0\n",
       "is_recommended              117486\n",
       "helpfulness                 331832\n",
       "total_feedback_count             0\n",
       "total_neg_feedback_count         0\n",
       "total_pos_feedback_count         0\n",
       "submission_time                  0\n",
       "review_text                    999\n",
       "review_title                167011\n",
       "skin_tone                   106056\n",
       "eye_color                   138488\n",
       "skin_type                    74683\n",
       "hair_color                  141081\n",
       "product_id                       0\n",
       "product_name                     0\n",
       "brand_name                       0\n",
       "price_usd                        0\n",
       "dtype: int64"
      ]
     },
     "execution_count": 22,
     "metadata": {},
     "output_type": "execute_result"
    }
   ],
   "source": [
    "reviews250.isnull().sum()"
   ]
  },
  {
   "cell_type": "markdown",
   "id": "6dbd2ade-783a-4463-890a-4622075d82e8",
   "metadata": {},
   "source": [
    "## Drop unwanted columns"
   ]
  },
  {
   "cell_type": "code",
   "execution_count": 23,
   "id": "60a0487e-7d0f-40c1-a480-9e068942ae79",
   "metadata": {},
   "outputs": [],
   "source": [
    "reviews250.drop(['Unnamed: 0','eye_color', 'hair_color', 'helpfulness',], axis = 1 , inplace = True )"
   ]
  },
  {
   "cell_type": "code",
   "execution_count": 24,
   "id": "6186ca7b-45d8-49de-a7a5-145a04d9163c",
   "metadata": {},
   "outputs": [
    {
     "data": {
      "text/plain": [
       "Index(['author_id', 'rating', 'is_recommended', 'total_feedback_count',\n",
       "       'total_neg_feedback_count', 'total_pos_feedback_count',\n",
       "       'submission_time', 'review_text', 'review_title', 'skin_tone',\n",
       "       'skin_type', 'product_id', 'product_name', 'brand_name', 'price_usd'],\n",
       "      dtype='object')"
      ]
     },
     "execution_count": 24,
     "metadata": {},
     "output_type": "execute_result"
    }
   ],
   "source": [
    "reviews250.columns"
   ]
  },
  {
   "cell_type": "code",
   "execution_count": 25,
   "id": "238b3611-40f4-409d-97fe-ae51ae574552",
   "metadata": {},
   "outputs": [],
   "source": [
    "reviews250.dropna(axis = 0, subset = ['review_text'], inplace = True)"
   ]
  },
  {
   "cell_type": "code",
   "execution_count": 26,
   "id": "5cd8ab0c-b3e3-47d5-880d-ce39d52d4947",
   "metadata": {},
   "outputs": [
    {
     "data": {
      "text/plain": [
       "author_id                    object\n",
       "rating                        int64\n",
       "is_recommended              float64\n",
       "total_feedback_count          int64\n",
       "total_neg_feedback_count      int64\n",
       "total_pos_feedback_count      int64\n",
       "submission_time              object\n",
       "review_text                  object\n",
       "review_title                 object\n",
       "skin_tone                    object\n",
       "skin_type                    object\n",
       "product_id                   object\n",
       "product_name                 object\n",
       "brand_name                   object\n",
       "price_usd                   float64\n",
       "dtype: object"
      ]
     },
     "execution_count": 26,
     "metadata": {},
     "output_type": "execute_result"
    }
   ],
   "source": [
    "reviews250.dtypes"
   ]
  },
  {
   "cell_type": "code",
   "execution_count": 28,
   "id": "a5b2d0e0-5972-481f-b171-e3a6db690a3c",
   "metadata": {
    "scrolled": true
   },
   "outputs": [
    {
     "data": {
      "text/html": [
       "<div>\n",
       "<style scoped>\n",
       "    .dataframe tbody tr th:only-of-type {\n",
       "        vertical-align: middle;\n",
       "    }\n",
       "\n",
       "    .dataframe tbody tr th {\n",
       "        vertical-align: top;\n",
       "    }\n",
       "\n",
       "    .dataframe thead th {\n",
       "        text-align: right;\n",
       "    }\n",
       "</style>\n",
       "<table border=\"1\" class=\"dataframe\">\n",
       "  <thead>\n",
       "    <tr style=\"text-align: right;\">\n",
       "      <th></th>\n",
       "      <th>author_id</th>\n",
       "      <th>rating</th>\n",
       "      <th>is_recommended</th>\n",
       "      <th>total_feedback_count</th>\n",
       "      <th>total_neg_feedback_count</th>\n",
       "      <th>total_pos_feedback_count</th>\n",
       "      <th>submission_time</th>\n",
       "      <th>review_text</th>\n",
       "      <th>review_title</th>\n",
       "      <th>skin_tone</th>\n",
       "      <th>skin_type</th>\n",
       "      <th>product_id</th>\n",
       "      <th>product_name</th>\n",
       "      <th>brand_name</th>\n",
       "      <th>price_usd</th>\n",
       "    </tr>\n",
       "  </thead>\n",
       "  <tbody>\n",
       "    <tr>\n",
       "      <th>0</th>\n",
       "      <td>1741593524</td>\n",
       "      <td>5</td>\n",
       "      <td>1.0</td>\n",
       "      <td>2</td>\n",
       "      <td>0</td>\n",
       "      <td>2</td>\n",
       "      <td>2023-02-01</td>\n",
       "      <td>I use this with the Nudestix “Citrus Clean Bal...</td>\n",
       "      <td>Taught me how to double cleanse!</td>\n",
       "      <td>NaN</td>\n",
       "      <td>dry</td>\n",
       "      <td>P504322</td>\n",
       "      <td>Gentle Hydra-Gel Face Cleanser</td>\n",
       "      <td>NUDESTIX</td>\n",
       "      <td>19.0</td>\n",
       "    </tr>\n",
       "    <tr>\n",
       "      <th>1</th>\n",
       "      <td>31423088263</td>\n",
       "      <td>1</td>\n",
       "      <td>0.0</td>\n",
       "      <td>0</td>\n",
       "      <td>0</td>\n",
       "      <td>0</td>\n",
       "      <td>2023-03-21</td>\n",
       "      <td>I bought this lip mask after reading the revie...</td>\n",
       "      <td>Disappointed</td>\n",
       "      <td>NaN</td>\n",
       "      <td>NaN</td>\n",
       "      <td>P420652</td>\n",
       "      <td>Lip Sleeping Mask Intense Hydration with Vitam...</td>\n",
       "      <td>LANEIGE</td>\n",
       "      <td>24.0</td>\n",
       "    </tr>\n",
       "    <tr>\n",
       "      <th>2</th>\n",
       "      <td>5061282401</td>\n",
       "      <td>5</td>\n",
       "      <td>1.0</td>\n",
       "      <td>0</td>\n",
       "      <td>0</td>\n",
       "      <td>0</td>\n",
       "      <td>2023-03-21</td>\n",
       "      <td>My review title says it all! I get so excited ...</td>\n",
       "      <td>New Favorite Routine</td>\n",
       "      <td>light</td>\n",
       "      <td>dry</td>\n",
       "      <td>P420652</td>\n",
       "      <td>Lip Sleeping Mask Intense Hydration with Vitam...</td>\n",
       "      <td>LANEIGE</td>\n",
       "      <td>24.0</td>\n",
       "    </tr>\n",
       "    <tr>\n",
       "      <th>3</th>\n",
       "      <td>6083038851</td>\n",
       "      <td>5</td>\n",
       "      <td>1.0</td>\n",
       "      <td>0</td>\n",
       "      <td>0</td>\n",
       "      <td>0</td>\n",
       "      <td>2023-03-20</td>\n",
       "      <td>I’ve always loved this formula for a long time...</td>\n",
       "      <td>Can't go wrong with any of them</td>\n",
       "      <td>NaN</td>\n",
       "      <td>combination</td>\n",
       "      <td>P420652</td>\n",
       "      <td>Lip Sleeping Mask Intense Hydration with Vitam...</td>\n",
       "      <td>LANEIGE</td>\n",
       "      <td>24.0</td>\n",
       "    </tr>\n",
       "    <tr>\n",
       "      <th>4</th>\n",
       "      <td>47056667835</td>\n",
       "      <td>5</td>\n",
       "      <td>1.0</td>\n",
       "      <td>0</td>\n",
       "      <td>0</td>\n",
       "      <td>0</td>\n",
       "      <td>2023-03-20</td>\n",
       "      <td>If you have dry cracked lips, this is a must h...</td>\n",
       "      <td>A must have !!!</td>\n",
       "      <td>light</td>\n",
       "      <td>combination</td>\n",
       "      <td>P420652</td>\n",
       "      <td>Lip Sleeping Mask Intense Hydration with Vitam...</td>\n",
       "      <td>LANEIGE</td>\n",
       "      <td>24.0</td>\n",
       "    </tr>\n",
       "    <tr>\n",
       "      <th>5</th>\n",
       "      <td>42802569154</td>\n",
       "      <td>4</td>\n",
       "      <td>1.0</td>\n",
       "      <td>1</td>\n",
       "      <td>0</td>\n",
       "      <td>1</td>\n",
       "      <td>2023-03-19</td>\n",
       "      <td>The scent isn’t my favourite but it works grea...</td>\n",
       "      <td>Great!</td>\n",
       "      <td>lightMedium</td>\n",
       "      <td>normal</td>\n",
       "      <td>P420652</td>\n",
       "      <td>Lip Sleeping Mask Intense Hydration with Vitam...</td>\n",
       "      <td>LANEIGE</td>\n",
       "      <td>24.0</td>\n",
       "    </tr>\n",
       "    <tr>\n",
       "      <th>6</th>\n",
       "      <td>6941883808</td>\n",
       "      <td>2</td>\n",
       "      <td>0.0</td>\n",
       "      <td>8</td>\n",
       "      <td>6</td>\n",
       "      <td>2</td>\n",
       "      <td>2023-03-19</td>\n",
       "      <td>I’ll give this 2 stars for nice packaging and ...</td>\n",
       "      <td>Dried my lips out and clogged my pores</td>\n",
       "      <td>light</td>\n",
       "      <td>combination</td>\n",
       "      <td>P420652</td>\n",
       "      <td>Lip Sleeping Mask Intense Hydration with Vitam...</td>\n",
       "      <td>LANEIGE</td>\n",
       "      <td>24.0</td>\n",
       "    </tr>\n",
       "    <tr>\n",
       "      <th>7</th>\n",
       "      <td>27926227988</td>\n",
       "      <td>5</td>\n",
       "      <td>1.0</td>\n",
       "      <td>0</td>\n",
       "      <td>0</td>\n",
       "      <td>0</td>\n",
       "      <td>2023-03-19</td>\n",
       "      <td>I use this at night or while I’m putting makeu...</td>\n",
       "      <td>Works great</td>\n",
       "      <td>fairLight</td>\n",
       "      <td>combination</td>\n",
       "      <td>P420652</td>\n",
       "      <td>Lip Sleeping Mask Intense Hydration with Vitam...</td>\n",
       "      <td>LANEIGE</td>\n",
       "      <td>24.0</td>\n",
       "    </tr>\n",
       "    <tr>\n",
       "      <th>8</th>\n",
       "      <td>7656791726</td>\n",
       "      <td>5</td>\n",
       "      <td>1.0</td>\n",
       "      <td>1</td>\n",
       "      <td>0</td>\n",
       "      <td>1</td>\n",
       "      <td>2023-03-18</td>\n",
       "      <td>I love this stuff. I first had the sample size...</td>\n",
       "      <td>Must have.</td>\n",
       "      <td>light</td>\n",
       "      <td>normal</td>\n",
       "      <td>P420652</td>\n",
       "      <td>Lip Sleeping Mask Intense Hydration with Vitam...</td>\n",
       "      <td>LANEIGE</td>\n",
       "      <td>24.0</td>\n",
       "    </tr>\n",
       "    <tr>\n",
       "      <th>9</th>\n",
       "      <td>38727834382</td>\n",
       "      <td>5</td>\n",
       "      <td>1.0</td>\n",
       "      <td>2</td>\n",
       "      <td>0</td>\n",
       "      <td>2</td>\n",
       "      <td>2023-03-18</td>\n",
       "      <td>I purchased the Sweet Candy scent at my local ...</td>\n",
       "      <td>RUN TO PURCHASE</td>\n",
       "      <td>light</td>\n",
       "      <td>normal</td>\n",
       "      <td>P420652</td>\n",
       "      <td>Lip Sleeping Mask Intense Hydration with Vitam...</td>\n",
       "      <td>LANEIGE</td>\n",
       "      <td>24.0</td>\n",
       "    </tr>\n",
       "  </tbody>\n",
       "</table>\n",
       "</div>"
      ],
      "text/plain": [
       "     author_id  rating  is_recommended  total_feedback_count  \\\n",
       "0   1741593524       5             1.0                     2   \n",
       "1  31423088263       1             0.0                     0   \n",
       "2   5061282401       5             1.0                     0   \n",
       "3   6083038851       5             1.0                     0   \n",
       "4  47056667835       5             1.0                     0   \n",
       "5  42802569154       4             1.0                     1   \n",
       "6   6941883808       2             0.0                     8   \n",
       "7  27926227988       5             1.0                     0   \n",
       "8   7656791726       5             1.0                     1   \n",
       "9  38727834382       5             1.0                     2   \n",
       "\n",
       "   total_neg_feedback_count  total_pos_feedback_count submission_time  \\\n",
       "0                         0                         2      2023-02-01   \n",
       "1                         0                         0      2023-03-21   \n",
       "2                         0                         0      2023-03-21   \n",
       "3                         0                         0      2023-03-20   \n",
       "4                         0                         0      2023-03-20   \n",
       "5                         0                         1      2023-03-19   \n",
       "6                         6                         2      2023-03-19   \n",
       "7                         0                         0      2023-03-19   \n",
       "8                         0                         1      2023-03-18   \n",
       "9                         0                         2      2023-03-18   \n",
       "\n",
       "                                         review_text  \\\n",
       "0  I use this with the Nudestix “Citrus Clean Bal...   \n",
       "1  I bought this lip mask after reading the revie...   \n",
       "2  My review title says it all! I get so excited ...   \n",
       "3  I’ve always loved this formula for a long time...   \n",
       "4  If you have dry cracked lips, this is a must h...   \n",
       "5  The scent isn’t my favourite but it works grea...   \n",
       "6  I’ll give this 2 stars for nice packaging and ...   \n",
       "7  I use this at night or while I’m putting makeu...   \n",
       "8  I love this stuff. I first had the sample size...   \n",
       "9  I purchased the Sweet Candy scent at my local ...   \n",
       "\n",
       "                             review_title    skin_tone    skin_type  \\\n",
       "0        Taught me how to double cleanse!          NaN          dry   \n",
       "1                            Disappointed          NaN          NaN   \n",
       "2                    New Favorite Routine        light          dry   \n",
       "3         Can't go wrong with any of them          NaN  combination   \n",
       "4                         A must have !!!        light  combination   \n",
       "5                                  Great!  lightMedium       normal   \n",
       "6  Dried my lips out and clogged my pores        light  combination   \n",
       "7                             Works great    fairLight  combination   \n",
       "8                              Must have.        light       normal   \n",
       "9                         RUN TO PURCHASE        light       normal   \n",
       "\n",
       "  product_id                                       product_name brand_name  \\\n",
       "0    P504322                     Gentle Hydra-Gel Face Cleanser   NUDESTIX   \n",
       "1    P420652  Lip Sleeping Mask Intense Hydration with Vitam...    LANEIGE   \n",
       "2    P420652  Lip Sleeping Mask Intense Hydration with Vitam...    LANEIGE   \n",
       "3    P420652  Lip Sleeping Mask Intense Hydration with Vitam...    LANEIGE   \n",
       "4    P420652  Lip Sleeping Mask Intense Hydration with Vitam...    LANEIGE   \n",
       "5    P420652  Lip Sleeping Mask Intense Hydration with Vitam...    LANEIGE   \n",
       "6    P420652  Lip Sleeping Mask Intense Hydration with Vitam...    LANEIGE   \n",
       "7    P420652  Lip Sleeping Mask Intense Hydration with Vitam...    LANEIGE   \n",
       "8    P420652  Lip Sleeping Mask Intense Hydration with Vitam...    LANEIGE   \n",
       "9    P420652  Lip Sleeping Mask Intense Hydration with Vitam...    LANEIGE   \n",
       "\n",
       "   price_usd  \n",
       "0       19.0  \n",
       "1       24.0  \n",
       "2       24.0  \n",
       "3       24.0  \n",
       "4       24.0  \n",
       "5       24.0  \n",
       "6       24.0  \n",
       "7       24.0  \n",
       "8       24.0  \n",
       "9       24.0  "
      ]
     },
     "execution_count": 28,
     "metadata": {},
     "output_type": "execute_result"
    }
   ],
   "source": [
    "reviews250.head(10)"
   ]
  },
  {
   "cell_type": "markdown",
   "id": "c89ab687-32e1-48f3-8a03-ffdcd61306d2",
   "metadata": {},
   "source": [
    "### Repete the process for all the review files"
   ]
  },
  {
   "cell_type": "code",
   "execution_count": 29,
   "id": "4e3b25d9-8a98-42f1-8758-595c719c3921",
   "metadata": {},
   "outputs": [],
   "source": [
    "reviews500 = pd.read_csv(\"Datasets/reviews_250-500.csv\", dtype={'author_id': 'str'})"
   ]
  },
  {
   "cell_type": "code",
   "execution_count": 30,
   "id": "fbc865f0-a9cc-4e0a-b42f-f22bc9863363",
   "metadata": {},
   "outputs": [
    {
     "data": {
      "text/plain": [
       "(206725, 19)"
      ]
     },
     "execution_count": 30,
     "metadata": {},
     "output_type": "execute_result"
    }
   ],
   "source": [
    "reviews500.shape"
   ]
  },
  {
   "cell_type": "code",
   "execution_count": 31,
   "id": "5929ca89-e568-4ace-ac47-f86fcd00a732",
   "metadata": {},
   "outputs": [],
   "source": [
    "reviews500.drop(['Unnamed: 0','eye_color', 'hair_color', 'helpfulness',], axis = 1 , inplace = True )"
   ]
  },
  {
   "cell_type": "code",
   "execution_count": 32,
   "id": "82bba4fe-bf4c-43da-bb29-8391517ce7f2",
   "metadata": {},
   "outputs": [
    {
     "data": {
      "text/plain": [
       "author_id                       0\n",
       "rating                          0\n",
       "is_recommended              25986\n",
       "total_feedback_count            0\n",
       "total_neg_feedback_count        0\n",
       "total_pos_feedback_count        0\n",
       "submission_time                 0\n",
       "review_text                   172\n",
       "review_title                59728\n",
       "skin_tone                   26799\n",
       "skin_type                   16749\n",
       "product_id                      0\n",
       "product_name                    0\n",
       "brand_name                      0\n",
       "price_usd                       0\n",
       "dtype: int64"
      ]
     },
     "execution_count": 32,
     "metadata": {},
     "output_type": "execute_result"
    }
   ],
   "source": [
    "reviews500.isnull().sum()"
   ]
  },
  {
   "cell_type": "code",
   "execution_count": 33,
   "id": "ac1f1eb0-e8c3-4709-bccb-b142d9154bbc",
   "metadata": {},
   "outputs": [],
   "source": [
    "reviews500.dropna(axis = 0, subset = ['review_text'], inplace = True)"
   ]
  },
  {
   "cell_type": "code",
   "execution_count": 34,
   "id": "376315b1-f8e4-4141-b92d-c3e9bbd98f07",
   "metadata": {
    "scrolled": true
   },
   "outputs": [
    {
     "data": {
      "text/html": [
       "<div>\n",
       "<style scoped>\n",
       "    .dataframe tbody tr th:only-of-type {\n",
       "        vertical-align: middle;\n",
       "    }\n",
       "\n",
       "    .dataframe tbody tr th {\n",
       "        vertical-align: top;\n",
       "    }\n",
       "\n",
       "    .dataframe thead th {\n",
       "        text-align: right;\n",
       "    }\n",
       "</style>\n",
       "<table border=\"1\" class=\"dataframe\">\n",
       "  <thead>\n",
       "    <tr style=\"text-align: right;\">\n",
       "      <th></th>\n",
       "      <th>author_id</th>\n",
       "      <th>rating</th>\n",
       "      <th>is_recommended</th>\n",
       "      <th>total_feedback_count</th>\n",
       "      <th>total_neg_feedback_count</th>\n",
       "      <th>total_pos_feedback_count</th>\n",
       "      <th>submission_time</th>\n",
       "      <th>review_text</th>\n",
       "      <th>review_title</th>\n",
       "      <th>skin_tone</th>\n",
       "      <th>skin_type</th>\n",
       "      <th>product_id</th>\n",
       "      <th>product_name</th>\n",
       "      <th>brand_name</th>\n",
       "      <th>price_usd</th>\n",
       "    </tr>\n",
       "  </thead>\n",
       "  <tbody>\n",
       "    <tr>\n",
       "      <th>0</th>\n",
       "      <td>2190293206</td>\n",
       "      <td>2</td>\n",
       "      <td>0.0</td>\n",
       "      <td>0</td>\n",
       "      <td>0</td>\n",
       "      <td>0</td>\n",
       "      <td>2023-03-19</td>\n",
       "      <td>Used to swear by this product but hate the sme...</td>\n",
       "      <td>NaN</td>\n",
       "      <td>lightMedium</td>\n",
       "      <td>combination</td>\n",
       "      <td>P443842</td>\n",
       "      <td>Retinol Anti-Aging Serum</td>\n",
       "      <td>The INKEY List</td>\n",
       "      <td>12.99</td>\n",
       "    </tr>\n",
       "    <tr>\n",
       "      <th>1</th>\n",
       "      <td>9113341005</td>\n",
       "      <td>5</td>\n",
       "      <td>1.0</td>\n",
       "      <td>0</td>\n",
       "      <td>0</td>\n",
       "      <td>0</td>\n",
       "      <td>2023-03-18</td>\n",
       "      <td>I’ve only been using this for a week and my sk...</td>\n",
       "      <td>More tolerable than The Ordinary</td>\n",
       "      <td>deep</td>\n",
       "      <td>normal</td>\n",
       "      <td>P443842</td>\n",
       "      <td>Retinol Anti-Aging Serum</td>\n",
       "      <td>The INKEY List</td>\n",
       "      <td>12.99</td>\n",
       "    </tr>\n",
       "    <tr>\n",
       "      <th>2</th>\n",
       "      <td>23866342710</td>\n",
       "      <td>1</td>\n",
       "      <td>0.0</td>\n",
       "      <td>13</td>\n",
       "      <td>0</td>\n",
       "      <td>13</td>\n",
       "      <td>2023-03-12</td>\n",
       "      <td>Why, why, why would you change the formula?!!!...</td>\n",
       "      <td>New formula is awful very sad</td>\n",
       "      <td>fairLight</td>\n",
       "      <td>combination</td>\n",
       "      <td>P443842</td>\n",
       "      <td>Retinol Anti-Aging Serum</td>\n",
       "      <td>The INKEY List</td>\n",
       "      <td>12.99</td>\n",
       "    </tr>\n",
       "    <tr>\n",
       "      <th>3</th>\n",
       "      <td>1328806527</td>\n",
       "      <td>1</td>\n",
       "      <td>0.0</td>\n",
       "      <td>17</td>\n",
       "      <td>1</td>\n",
       "      <td>16</td>\n",
       "      <td>2023-03-12</td>\n",
       "      <td>I have used this product for years and it has ...</td>\n",
       "      <td>Recently reformulated and the new formula is A...</td>\n",
       "      <td>light</td>\n",
       "      <td>combination</td>\n",
       "      <td>P443842</td>\n",
       "      <td>Retinol Anti-Aging Serum</td>\n",
       "      <td>The INKEY List</td>\n",
       "      <td>12.99</td>\n",
       "    </tr>\n",
       "    <tr>\n",
       "      <th>4</th>\n",
       "      <td>31262847082</td>\n",
       "      <td>5</td>\n",
       "      <td>1.0</td>\n",
       "      <td>1</td>\n",
       "      <td>0</td>\n",
       "      <td>1</td>\n",
       "      <td>2023-03-09</td>\n",
       "      <td>Great product for anti-aging Also great for da...</td>\n",
       "      <td>Must have product in my nighttime skincare rou...</td>\n",
       "      <td>lightMedium</td>\n",
       "      <td>combination</td>\n",
       "      <td>P443842</td>\n",
       "      <td>Retinol Anti-Aging Serum</td>\n",
       "      <td>The INKEY List</td>\n",
       "      <td>12.99</td>\n",
       "    </tr>\n",
       "    <tr>\n",
       "      <th>...</th>\n",
       "      <td>...</td>\n",
       "      <td>...</td>\n",
       "      <td>...</td>\n",
       "      <td>...</td>\n",
       "      <td>...</td>\n",
       "      <td>...</td>\n",
       "      <td>...</td>\n",
       "      <td>...</td>\n",
       "      <td>...</td>\n",
       "      <td>...</td>\n",
       "      <td>...</td>\n",
       "      <td>...</td>\n",
       "      <td>...</td>\n",
       "      <td>...</td>\n",
       "      <td>...</td>\n",
       "    </tr>\n",
       "    <tr>\n",
       "      <th>206720</th>\n",
       "      <td>5113824372</td>\n",
       "      <td>4</td>\n",
       "      <td>1.0</td>\n",
       "      <td>27</td>\n",
       "      <td>4</td>\n",
       "      <td>23</td>\n",
       "      <td>2019-05-02</td>\n",
       "      <td>I haven’t used this long enough to report any ...</td>\n",
       "      <td>NaN</td>\n",
       "      <td>mediumTan</td>\n",
       "      <td>normal</td>\n",
       "      <td>P443846</td>\n",
       "      <td>Collagen Booster Firming Peptide Serum</td>\n",
       "      <td>The INKEY List</td>\n",
       "      <td>12.99</td>\n",
       "    </tr>\n",
       "    <tr>\n",
       "      <th>206721</th>\n",
       "      <td>5297430713</td>\n",
       "      <td>5</td>\n",
       "      <td>1.0</td>\n",
       "      <td>32</td>\n",
       "      <td>8</td>\n",
       "      <td>24</td>\n",
       "      <td>2019-04-27</td>\n",
       "      <td>this serum is GREAT! Absorbs nicely, sits well...</td>\n",
       "      <td>NaN</td>\n",
       "      <td>medium</td>\n",
       "      <td>dry</td>\n",
       "      <td>P443846</td>\n",
       "      <td>Collagen Booster Firming Peptide Serum</td>\n",
       "      <td>The INKEY List</td>\n",
       "      <td>12.99</td>\n",
       "    </tr>\n",
       "    <tr>\n",
       "      <th>206722</th>\n",
       "      <td>2090479401</td>\n",
       "      <td>5</td>\n",
       "      <td>1.0</td>\n",
       "      <td>38</td>\n",
       "      <td>10</td>\n",
       "      <td>28</td>\n",
       "      <td>2019-04-22</td>\n",
       "      <td>I have been using this serum on my neck (day a...</td>\n",
       "      <td>Nice Collagen Serum!</td>\n",
       "      <td>fairLight</td>\n",
       "      <td>dry</td>\n",
       "      <td>P443846</td>\n",
       "      <td>Collagen Booster Firming Peptide Serum</td>\n",
       "      <td>The INKEY List</td>\n",
       "      <td>12.99</td>\n",
       "    </tr>\n",
       "    <tr>\n",
       "      <th>206723</th>\n",
       "      <td>10575410512</td>\n",
       "      <td>4</td>\n",
       "      <td>1.0</td>\n",
       "      <td>44</td>\n",
       "      <td>9</td>\n",
       "      <td>35</td>\n",
       "      <td>2019-04-19</td>\n",
       "      <td>I enjoyed this product more as a “primer” for ...</td>\n",
       "      <td>Great as a primer!</td>\n",
       "      <td>light</td>\n",
       "      <td>combination</td>\n",
       "      <td>P443846</td>\n",
       "      <td>Collagen Booster Firming Peptide Serum</td>\n",
       "      <td>The INKEY List</td>\n",
       "      <td>12.99</td>\n",
       "    </tr>\n",
       "    <tr>\n",
       "      <th>206724</th>\n",
       "      <td>21835396288</td>\n",
       "      <td>5</td>\n",
       "      <td>1.0</td>\n",
       "      <td>19</td>\n",
       "      <td>8</td>\n",
       "      <td>11</td>\n",
       "      <td>2019-04-19</td>\n",
       "      <td>Love this product! I apply a small amount and ...</td>\n",
       "      <td>Great Serum!</td>\n",
       "      <td>fair</td>\n",
       "      <td>dry</td>\n",
       "      <td>P443846</td>\n",
       "      <td>Collagen Booster Firming Peptide Serum</td>\n",
       "      <td>The INKEY List</td>\n",
       "      <td>12.99</td>\n",
       "    </tr>\n",
       "  </tbody>\n",
       "</table>\n",
       "<p>206553 rows × 15 columns</p>\n",
       "</div>"
      ],
      "text/plain": [
       "          author_id  rating  is_recommended  total_feedback_count  \\\n",
       "0        2190293206       2             0.0                     0   \n",
       "1        9113341005       5             1.0                     0   \n",
       "2       23866342710       1             0.0                    13   \n",
       "3        1328806527       1             0.0                    17   \n",
       "4       31262847082       5             1.0                     1   \n",
       "...             ...     ...             ...                   ...   \n",
       "206720   5113824372       4             1.0                    27   \n",
       "206721   5297430713       5             1.0                    32   \n",
       "206722   2090479401       5             1.0                    38   \n",
       "206723  10575410512       4             1.0                    44   \n",
       "206724  21835396288       5             1.0                    19   \n",
       "\n",
       "        total_neg_feedback_count  total_pos_feedback_count submission_time  \\\n",
       "0                              0                         0      2023-03-19   \n",
       "1                              0                         0      2023-03-18   \n",
       "2                              0                        13      2023-03-12   \n",
       "3                              1                        16      2023-03-12   \n",
       "4                              0                         1      2023-03-09   \n",
       "...                          ...                       ...             ...   \n",
       "206720                         4                        23      2019-05-02   \n",
       "206721                         8                        24      2019-04-27   \n",
       "206722                        10                        28      2019-04-22   \n",
       "206723                         9                        35      2019-04-19   \n",
       "206724                         8                        11      2019-04-19   \n",
       "\n",
       "                                              review_text  \\\n",
       "0       Used to swear by this product but hate the sme...   \n",
       "1       I’ve only been using this for a week and my sk...   \n",
       "2       Why, why, why would you change the formula?!!!...   \n",
       "3       I have used this product for years and it has ...   \n",
       "4       Great product for anti-aging Also great for da...   \n",
       "...                                                   ...   \n",
       "206720  I haven’t used this long enough to report any ...   \n",
       "206721  this serum is GREAT! Absorbs nicely, sits well...   \n",
       "206722  I have been using this serum on my neck (day a...   \n",
       "206723  I enjoyed this product more as a “primer” for ...   \n",
       "206724  Love this product! I apply a small amount and ...   \n",
       "\n",
       "                                             review_title    skin_tone  \\\n",
       "0                                                     NaN  lightMedium   \n",
       "1                        More tolerable than The Ordinary         deep   \n",
       "2                           New formula is awful very sad    fairLight   \n",
       "3       Recently reformulated and the new formula is A...        light   \n",
       "4       Must have product in my nighttime skincare rou...  lightMedium   \n",
       "...                                                   ...          ...   \n",
       "206720                                                NaN    mediumTan   \n",
       "206721                                                NaN       medium   \n",
       "206722                               Nice Collagen Serum!    fairLight   \n",
       "206723                                 Great as a primer!        light   \n",
       "206724                                       Great Serum!         fair   \n",
       "\n",
       "          skin_type product_id                            product_name  \\\n",
       "0       combination    P443842                Retinol Anti-Aging Serum   \n",
       "1            normal    P443842                Retinol Anti-Aging Serum   \n",
       "2       combination    P443842                Retinol Anti-Aging Serum   \n",
       "3       combination    P443842                Retinol Anti-Aging Serum   \n",
       "4       combination    P443842                Retinol Anti-Aging Serum   \n",
       "...             ...        ...                                     ...   \n",
       "206720       normal    P443846  Collagen Booster Firming Peptide Serum   \n",
       "206721          dry    P443846  Collagen Booster Firming Peptide Serum   \n",
       "206722          dry    P443846  Collagen Booster Firming Peptide Serum   \n",
       "206723  combination    P443846  Collagen Booster Firming Peptide Serum   \n",
       "206724          dry    P443846  Collagen Booster Firming Peptide Serum   \n",
       "\n",
       "            brand_name  price_usd  \n",
       "0       The INKEY List      12.99  \n",
       "1       The INKEY List      12.99  \n",
       "2       The INKEY List      12.99  \n",
       "3       The INKEY List      12.99  \n",
       "4       The INKEY List      12.99  \n",
       "...                ...        ...  \n",
       "206720  The INKEY List      12.99  \n",
       "206721  The INKEY List      12.99  \n",
       "206722  The INKEY List      12.99  \n",
       "206723  The INKEY List      12.99  \n",
       "206724  The INKEY List      12.99  \n",
       "\n",
       "[206553 rows x 15 columns]"
      ]
     },
     "execution_count": 34,
     "metadata": {},
     "output_type": "execute_result"
    }
   ],
   "source": [
    "reviews500"
   ]
  },
  {
   "cell_type": "code",
   "execution_count": 35,
   "id": "79a8faa7-4932-4bc1-bbb8-9e9d55335600",
   "metadata": {},
   "outputs": [],
   "source": [
    "reviews750 = pd.read_csv(\"Datasets/reviews_500-750.csv\", dtype={'author_id': 'str'})"
   ]
  },
  {
   "cell_type": "code",
   "execution_count": 36,
   "id": "09de4a00-af7e-4041-9d21-bbd1149ce7a8",
   "metadata": {},
   "outputs": [
    {
     "data": {
      "text/plain": [
       "(116262, 19)"
      ]
     },
     "execution_count": 36,
     "metadata": {},
     "output_type": "execute_result"
    }
   ],
   "source": [
    "reviews750.shape"
   ]
  },
  {
   "cell_type": "code",
   "execution_count": 37,
   "id": "3b75cc54-c542-435d-aacb-3b5a653ef046",
   "metadata": {},
   "outputs": [],
   "source": [
    "reviews750.drop(['Unnamed: 0','eye_color', 'hair_color', 'helpfulness'], axis = 1 , inplace = True )"
   ]
  },
  {
   "cell_type": "code",
   "execution_count": 38,
   "id": "bf308825-502c-40dd-8de5-31394f93a081",
   "metadata": {},
   "outputs": [],
   "source": [
    "reviews750.dropna(axis = 0, subset = ['review_text'], inplace = True)"
   ]
  },
  {
   "cell_type": "code",
   "execution_count": 39,
   "id": "6001b6e2-53f6-4c64-ba1b-f7a417a339e1",
   "metadata": {},
   "outputs": [
    {
     "data": {
      "text/plain": [
       "author_id                       0\n",
       "rating                          0\n",
       "is_recommended              11803\n",
       "total_feedback_count            0\n",
       "total_neg_feedback_count        0\n",
       "total_pos_feedback_count        0\n",
       "submission_time                 0\n",
       "review_text                     0\n",
       "review_title                33856\n",
       "skin_tone                   15233\n",
       "skin_type                    8886\n",
       "product_id                      0\n",
       "product_name                    0\n",
       "brand_name                      0\n",
       "price_usd                       0\n",
       "dtype: int64"
      ]
     },
     "execution_count": 39,
     "metadata": {},
     "output_type": "execute_result"
    }
   ],
   "source": [
    "reviews750.isnull().sum()"
   ]
  },
  {
   "cell_type": "code",
   "execution_count": 40,
   "id": "3f85c87d-b8ae-483b-82ef-af2b863f1c4a",
   "metadata": {},
   "outputs": [],
   "source": [
    "reviews1250 = pd.read_csv(\"Datasets/reviews_750-1250.csv\", dtype={'author_id': 'str'})"
   ]
  },
  {
   "cell_type": "code",
   "execution_count": 41,
   "id": "73e110ce-a661-42b7-a23d-494ce432569e",
   "metadata": {},
   "outputs": [
    {
     "data": {
      "text/plain": [
       "(119317, 19)"
      ]
     },
     "execution_count": 41,
     "metadata": {},
     "output_type": "execute_result"
    }
   ],
   "source": [
    "reviews1250.shape"
   ]
  },
  {
   "cell_type": "code",
   "execution_count": 42,
   "id": "02d1d66b-aeb0-4bf6-aec5-0703383d239e",
   "metadata": {},
   "outputs": [],
   "source": [
    "reviews1250.drop(['Unnamed: 0','eye_color', 'hair_color', 'helpfulness'], axis = 1 , inplace = True )"
   ]
  },
  {
   "cell_type": "code",
   "execution_count": 43,
   "id": "8996cf2f-b3f7-46c4-a7bf-3fe2559ab1f3",
   "metadata": {},
   "outputs": [],
   "source": [
    "reviews1250.dropna(axis = 0, subset = ['review_text'], inplace = True)"
   ]
  },
  {
   "cell_type": "code",
   "execution_count": 44,
   "id": "ed56e22b-f562-4a8f-8ac7-5d99860ef5f2",
   "metadata": {},
   "outputs": [
    {
     "data": {
      "text/plain": [
       "author_id                       0\n",
       "rating                          0\n",
       "is_recommended               8896\n",
       "total_feedback_count            0\n",
       "total_neg_feedback_count        0\n",
       "total_pos_feedback_count        0\n",
       "submission_time                 0\n",
       "review_text                     0\n",
       "review_title                35467\n",
       "skin_tone                   15244\n",
       "skin_type                    7603\n",
       "product_id                      0\n",
       "product_name                    0\n",
       "brand_name                      0\n",
       "price_usd                       0\n",
       "dtype: int64"
      ]
     },
     "execution_count": 44,
     "metadata": {},
     "output_type": "execute_result"
    }
   ],
   "source": [
    "reviews1250.isnull().sum()"
   ]
  },
  {
   "cell_type": "code",
   "execution_count": 45,
   "id": "5b9d3716-40e2-48d4-9663-90747f3a7565",
   "metadata": {},
   "outputs": [],
   "source": [
    "reviews5000 = pd.read_csv(\"Datasets/reviews_1250-end.csv\", dtype={'author_id': 'str'})"
   ]
  },
  {
   "cell_type": "code",
   "execution_count": 46,
   "id": "7103f35f-7fd2-4520-b343-e2b0bbd94b37",
   "metadata": {},
   "outputs": [
    {
     "data": {
      "text/plain": [
       "(49977, 19)"
      ]
     },
     "execution_count": 46,
     "metadata": {},
     "output_type": "execute_result"
    }
   ],
   "source": [
    "reviews5000.shape"
   ]
  },
  {
   "cell_type": "code",
   "execution_count": 47,
   "id": "d69bb25e-b1c9-44e3-bf21-31a0a1055576",
   "metadata": {},
   "outputs": [],
   "source": [
    "reviews5000.drop(['Unnamed: 0','eye_color', 'hair_color', 'helpfulness'], axis = 1 , inplace = True )"
   ]
  },
  {
   "cell_type": "code",
   "execution_count": 48,
   "id": "41b5c89f-0aa3-426b-b462-33e4f6a917b6",
   "metadata": {},
   "outputs": [],
   "source": [
    "reviews5000.dropna(axis = 0, subset = ['review_text'], inplace = True)"
   ]
  },
  {
   "cell_type": "code",
   "execution_count": 49,
   "id": "2f635fc3-631a-464d-b17b-a5108e586bb8",
   "metadata": {},
   "outputs": [
    {
     "data": {
      "text/plain": [
       "author_id                       0\n",
       "rating                          0\n",
       "is_recommended               3817\n",
       "total_feedback_count            0\n",
       "total_neg_feedback_count        0\n",
       "total_pos_feedback_count        0\n",
       "submission_time                 0\n",
       "review_text                     0\n",
       "review_title                14319\n",
       "skin_tone                    7198\n",
       "skin_type                    3629\n",
       "product_id                      0\n",
       "product_name                    0\n",
       "brand_name                      0\n",
       "price_usd                       0\n",
       "dtype: int64"
      ]
     },
     "execution_count": 49,
     "metadata": {},
     "output_type": "execute_result"
    }
   ],
   "source": [
    "reviews5000.isnull().sum()"
   ]
  },
  {
   "cell_type": "code",
   "execution_count": 50,
   "id": "30cf2c87-7b17-472b-93b7-32f441690459",
   "metadata": {},
   "outputs": [],
   "source": [
    "reviews250.to_csv('reviews250.csv', index = True)"
   ]
  },
  {
   "cell_type": "markdown",
   "id": "cd7df8be-252d-49c8-8362-525f456e4783",
   "metadata": {},
   "source": [
    "## joining all the reviews"
   ]
  },
  {
   "cell_type": "code",
   "execution_count": 52,
   "id": "a78ca3e2-84b1-4787-a1d5-008ad473370d",
   "metadata": {
    "scrolled": true
   },
   "outputs": [],
   "source": [
    "reviews1 = reviews250.merge(reviews500, how= 'outer')"
   ]
  },
  {
   "cell_type": "code",
   "execution_count": 53,
   "id": "76d72a33-4d32-4325-891c-da8b3c434e05",
   "metadata": {},
   "outputs": [
    {
     "data": {
      "text/plain": [
       "(807684, 15)"
      ]
     },
     "execution_count": 53,
     "metadata": {},
     "output_type": "execute_result"
    }
   ],
   "source": [
    "reviews1.shape"
   ]
  },
  {
   "cell_type": "code",
   "execution_count": 54,
   "id": "6063558c-eb7c-4e76-9ead-f2cbe35497b2",
   "metadata": {},
   "outputs": [],
   "source": [
    "reviews2 = reviews1.merge(reviews750, how = 'outer')"
   ]
  },
  {
   "cell_type": "code",
   "execution_count": 55,
   "id": "53939135-6a52-4fe3-9e51-9979730d0803",
   "metadata": {},
   "outputs": [],
   "source": [
    "reviews3 = reviews2.merge(reviews1250, how = 'outer')"
   ]
  },
  {
   "cell_type": "code",
   "execution_count": 56,
   "id": "ef1915a1-144a-416f-9a8f-a99847109d7e",
   "metadata": {},
   "outputs": [],
   "source": [
    "reviews4 = reviews3.merge(reviews5000, how = 'outer')"
   ]
  },
  {
   "cell_type": "code",
   "execution_count": 57,
   "id": "bc365bc7-ad86-4723-914d-e1b663a8ffd2",
   "metadata": {},
   "outputs": [
    {
     "data": {
      "text/plain": [
       "(1092967, 15)"
      ]
     },
     "execution_count": 57,
     "metadata": {},
     "output_type": "execute_result"
    }
   ],
   "source": [
    "reviews4.shape"
   ]
  },
  {
   "cell_type": "code",
   "execution_count": 58,
   "id": "52fa5b01-7fdb-446e-a835-eaaaeb251c64",
   "metadata": {
    "scrolled": true
   },
   "outputs": [
    {
     "data": {
      "text/plain": [
       "author_id                    object\n",
       "rating                        int64\n",
       "is_recommended              float64\n",
       "total_feedback_count          int64\n",
       "total_neg_feedback_count      int64\n",
       "total_pos_feedback_count      int64\n",
       "submission_time              object\n",
       "review_text                  object\n",
       "review_title                 object\n",
       "skin_tone                    object\n",
       "skin_type                    object\n",
       "product_id                   object\n",
       "product_name                 object\n",
       "brand_name                   object\n",
       "price_usd                   float64\n",
       "dtype: object"
      ]
     },
     "execution_count": 58,
     "metadata": {},
     "output_type": "execute_result"
    }
   ],
   "source": [
    "reviews4.dtypes"
   ]
  },
  {
   "cell_type": "code",
   "execution_count": 59,
   "id": "c072aec3-3e05-4713-b645-c7a656dcc90c",
   "metadata": {},
   "outputs": [
    {
     "data": {
      "text/plain": [
       "author_id                        0\n",
       "rating                           0\n",
       "is_recommended              167988\n",
       "total_feedback_count             0\n",
       "total_neg_feedback_count         0\n",
       "total_pos_feedback_count         0\n",
       "submission_time                  0\n",
       "review_text                      0\n",
       "review_title                309210\n",
       "skin_tone                   170499\n",
       "skin_type                   111518\n",
       "product_id                       0\n",
       "product_name                     0\n",
       "brand_name                       0\n",
       "price_usd                        0\n",
       "dtype: int64"
      ]
     },
     "execution_count": 59,
     "metadata": {},
     "output_type": "execute_result"
    }
   ],
   "source": [
    "reviews4.isnull().sum()"
   ]
  },
  {
   "cell_type": "code",
   "execution_count": 60,
   "id": "ea891797-9f6a-4401-9b1c-9174c030bede",
   "metadata": {},
   "outputs": [],
   "source": [
    "#replacing nulls\n",
    "reviews4['skin_tone'] = reviews4['skin_tone'].fillna(\"Unknown\")\n",
    "reviews4['skin_type'] = reviews4['skin_type'].fillna(\"Unknown\")"
   ]
  },
  {
   "cell_type": "code",
   "execution_count": 61,
   "id": "6fa4963b-9f37-4b00-9026-6c65a09d67de",
   "metadata": {},
   "outputs": [],
   "source": [
    "reviews4['review_title'] = reviews4['review_title'].fillna(\"None\")"
   ]
  },
  {
   "cell_type": "code",
   "execution_count": 62,
   "id": "2d9c9e1e-41c6-4a95-8b82-8fe2922e697f",
   "metadata": {},
   "outputs": [],
   "source": [
    "# Convert the 'submission_time' column to datetime\n",
    "reviews4['submission_time'] = pd.to_datetime(reviews4['submission_time'])\n"
   ]
  },
  {
   "cell_type": "code",
   "execution_count": 63,
   "id": "56451215-08bd-4593-be91-1a343a8d2080",
   "metadata": {},
   "outputs": [],
   "source": [
    "reviews4['submission_time'] = reviews4['submission_time'].astype('datetime64[ns]')"
   ]
  },
  {
   "cell_type": "code",
   "execution_count": 64,
   "id": "db3e2370-6149-4847-a520-1a4678180740",
   "metadata": {
    "scrolled": true
   },
   "outputs": [
    {
     "data": {
      "text/plain": [
       "0         2019-03-08\n",
       "1         2021-02-27\n",
       "2         2019-09-13\n",
       "3         2019-08-10\n",
       "4         2017-08-14\n",
       "             ...    \n",
       "1092962   2014-04-30\n",
       "1092963   2015-03-11\n",
       "1092964   2015-06-30\n",
       "1092965   2011-08-01\n",
       "1092966   2012-03-23\n",
       "Name: submission_time, Length: 1092967, dtype: datetime64[ns]"
      ]
     },
     "execution_count": 64,
     "metadata": {},
     "output_type": "execute_result"
    }
   ],
   "source": [
    "reviews4['submission_time']"
   ]
  },
  {
   "cell_type": "code",
   "execution_count": 65,
   "id": "84e06a4a-5e3b-43bd-ace6-7f4283d8eb47",
   "metadata": {},
   "outputs": [
    {
     "data": {
      "text/plain": [
       "author_id                           object\n",
       "rating                               int64\n",
       "is_recommended                     float64\n",
       "total_feedback_count                 int64\n",
       "total_neg_feedback_count             int64\n",
       "total_pos_feedback_count             int64\n",
       "submission_time             datetime64[ns]\n",
       "review_text                         object\n",
       "review_title                        object\n",
       "skin_tone                           object\n",
       "skin_type                           object\n",
       "product_id                          object\n",
       "product_name                        object\n",
       "brand_name                          object\n",
       "price_usd                          float64\n",
       "dtype: object"
      ]
     },
     "execution_count": 65,
     "metadata": {},
     "output_type": "execute_result"
    }
   ],
   "source": [
    "reviews4.dtypes"
   ]
  },
  {
   "cell_type": "code",
   "execution_count": 66,
   "id": "0581e20a-dfce-413d-8e31-3461716ccdec",
   "metadata": {},
   "outputs": [],
   "source": [
    "reviews4['combined_text'] = reviews4['review_title'].fillna('') + ' ' + reviews4['review_text'].fillna('').astype(str)"
   ]
  },
  {
   "cell_type": "code",
   "execution_count": null,
   "id": "41b42c77-33a5-4189-984f-6ae1d93654c5",
   "metadata": {},
   "outputs": [],
   "source": []
  },
  {
   "cell_type": "code",
   "execution_count": 67,
   "id": "2b33bccd-e363-4911-bc16-8000d8ea0790",
   "metadata": {},
   "outputs": [],
   "source": [
    "reviews4.to_csv('reviewsfinal.csv', index = True)"
   ]
  },
  {
   "cell_type": "markdown",
   "id": "bd679633-d355-482b-8027-8d93ae6e7f7d",
   "metadata": {},
   "source": [
    "## Extracting all common words for analysis"
   ]
  },
  {
   "cell_type": "code",
   "execution_count": 69,
   "id": "ae061605-a80e-4796-8dbb-0564e748b6cb",
   "metadata": {},
   "outputs": [],
   "source": [
    "def process_text_column(col):\n",
    "    all_text = \" \".join(col)\n",
    "    cleaned_text = re.sub(r'[^a-zA-Z\\sÄô]', '', all_text.lower())\n",
    "    tokens = cleaned_text.split()\n",
    "    stop_words = set([  \"i\", \"me\", \"my\", \"myself\", \"ive\", \"im\", \"we\", \"our\", \"ours\", \"ourselves\", \"you\", \"your\", \"yours\",\n",
    "        \"yourself\", \"yourselves\", \"he\", \"him\", \"his\", \"himself\", \"she\", \"her\", \"hers\",\"even\",\"try\",\"recommend\",\n",
    "        \"herself\", \"it\", \"its\", \"itself\", \"they\", \"them\", \"their\", \"theirs\", \"themselves\",\"doesnt\",\"didnt\",\"get\",\"received\",\n",
    "        \"what\", \"which\", \"who\", \"whom\", \"this\", \"that\", \"these\", \"those\", \"am\", \"is\", \"are\",\"amazing\",\"also\",\"definitely\",\n",
    "        \"was\", \"were\", \"be\", \"been\", \"being\", \"have\", \"has\", \"had\", \"having\", \"do\", \"does\",\"really\",\"good\",\"one\",\"would\",\n",
    "        \"did\", \"doing\", \"a\", \"an\", \"the\", \"and\", \"but\", \"if\", \"or\", \"because\", \"as\", \"until\",\"love\",\"like\",\"using\",\n",
    "        \"while\", \"of\", \"at\", \"by\", \"for\", \"with\", \"about\", \"against\", \"between\", \"into\",\"nice\",\"doesn't\",\"little\",\"works\"\n",
    "        \"through\", \"during\", \"before\", \"after\", \"above\", \"below\", \"to\", \"from\", \"up\", \"down\",\"much\",\"well\",\"great\",\n",
    "        \"in\", \"out\", \"on\", \"off\", \"over\", \"under\", \"again\", \"further\", \"then\", \"once\", \"here\",\"products\",\"product\",\n",
    "        \"there\", \"when\", \"where\", \"why\", \"how\", \"all\", \"any\", \"both\", \"each\", \"few\", \"more\",\"dont\",\"much\",\n",
    "        \"most\", \"other\", \"some\", \"such\", \"no\", \"nor\", \"not\", \"only\", \"own\", \"same\", \"so\",\"feel\",\"feels\",\n",
    "        \"than\", \"too\", \"very\", \"s\", \"t\", \"can\", \"will\", \"just\", \"don\", \"should\", \"now\",\"use\",\"used\",\n",
    "    ])\n",
    "    filtered_words = [word for word in tokens if word not in stop_words]\n",
    "    word_counts = Counter(filtered_words)\n",
    "    return word_counts.most_common(40)"
   ]
  },
  {
   "cell_type": "code",
   "execution_count": 70,
   "id": "0b839c29-a489-41b7-9716-37914e4a64e6",
   "metadata": {},
   "outputs": [],
   "source": [
    "most_com_words = process_text_column(reviews4['combined_text'])"
   ]
  },
  {
   "cell_type": "code",
   "execution_count": 71,
   "id": "697529f3-ba10-47f3-8ad0-9d0b8fb2bbdd",
   "metadata": {},
   "outputs": [
    {
     "data": {
      "text/plain": [
       "Index(['author_id', 'rating', 'is_recommended', 'total_feedback_count',\n",
       "       'total_neg_feedback_count', 'total_pos_feedback_count',\n",
       "       'submission_time', 'review_text', 'review_title', 'skin_tone',\n",
       "       'skin_type', 'product_id', 'product_name', 'brand_name', 'price_usd',\n",
       "       'combined_text'],\n",
       "      dtype='object')"
      ]
     },
     "execution_count": 71,
     "metadata": {},
     "output_type": "execute_result"
    }
   ],
   "source": [
    "reviews4.columns"
   ]
  },
  {
   "cell_type": "code",
   "execution_count": 72,
   "id": "6c946bfb-d687-419e-a399-cdad4612a1c6",
   "metadata": {
    "scrolled": true
   },
   "outputs": [
    {
     "name": "stdout",
     "output_type": "stream",
     "text": [
      "Most Popular Words Across All Reviews:\n",
      "skin: 1346538\n",
      "face: 353485\n",
      "none: 313292\n",
      "dry: 239199\n",
      "moisturizer: 190293\n",
      "cream: 182216\n",
      "makeup: 174115\n",
      "day: 136514\n",
      "sensitive: 132503\n",
      "oily: 131876\n",
      "serum: 131512\n",
      "acne: 129727\n",
      "cleanser: 125895\n",
      "time: 124252\n",
      "night: 123896\n",
      "first: 123229\n",
      "soft: 120087\n",
      "smell: 118306\n",
      "smooth: 111026\n",
      "feeling: 109129\n",
      "eye: 109026\n",
      "works: 106857\n",
      "mask: 104414\n",
      "tried: 103874\n",
      "best: 103675\n",
      "super: 103282\n",
      "texture: 103162\n",
      "oil: 99569\n",
      "see: 98663\n",
      "long: 98513\n",
      "way: 97228\n",
      "makes: 96663\n",
      "scent: 92240\n",
      "difference: 91547\n",
      "make: 89930\n",
      "smells: 88518\n",
      "price: 85083\n",
      "look: 84503\n",
      "morning: 84371\n",
      "light: 84206\n"
     ]
    }
   ],
   "source": [
    "# finding the top 40 common words\n",
    "print(\"Most Popular Words Across All Reviews:\")\n",
    "for word, count in most_com_words:\n",
    "    print(f\"{word}: {count}\")"
   ]
  },
  {
   "cell_type": "code",
   "execution_count": 73,
   "id": "0ff9e39f-3a58-4383-9088-b07f986f079f",
   "metadata": {},
   "outputs": [],
   "source": [
    "reviews4.to_csv('reviewsfinal.csv', index = False)"
   ]
  },
  {
   "cell_type": "code",
   "execution_count": 74,
   "id": "fa81cc71-aa4f-4862-983b-ce8509c22ee1",
   "metadata": {},
   "outputs": [
    {
     "data": {
      "text/plain": [
       "author_id                        0\n",
       "rating                           0\n",
       "is_recommended              167988\n",
       "total_feedback_count             0\n",
       "total_neg_feedback_count         0\n",
       "total_pos_feedback_count         0\n",
       "submission_time                  0\n",
       "review_text                      0\n",
       "review_title                     0\n",
       "skin_tone                        0\n",
       "skin_type                        0\n",
       "product_id                       0\n",
       "product_name                     0\n",
       "brand_name                       0\n",
       "price_usd                        0\n",
       "combined_text                    0\n",
       "dtype: int64"
      ]
     },
     "execution_count": 74,
     "metadata": {},
     "output_type": "execute_result"
    }
   ],
   "source": [
    "reviews4.isnull().sum()"
   ]
  },
  {
   "cell_type": "code",
   "execution_count": 75,
   "id": "63fd097e-3f97-4efb-ade2-4549a4d0a03f",
   "metadata": {},
   "outputs": [],
   "source": [
    "most_com_words = pd.DataFrame(most_com_words)"
   ]
  },
  {
   "cell_type": "code",
   "execution_count": 76,
   "id": "0a5932bb-271f-4294-b433-4e07a8b81901",
   "metadata": {},
   "outputs": [],
   "source": [
    "most_com_words.to_csv(\"most_com_words.csv\", index=False)"
   ]
  },
  {
   "cell_type": "code",
   "execution_count": 77,
   "id": "1b0cf7fa-fad3-4fc5-94aa-6692977f0482",
   "metadata": {},
   "outputs": [],
   "source": [
    "# Process the ingredients column to count the most common ingredients\n",
    "def process_ingredients_column(col):\n",
    "    all_ingredients = []\n",
    "    for row in col:\n",
    "        if pd.isna(row):\n",
    "            continue\n",
    "        ingredients = re.sub(r\"[\\[\\]]\", \"\", row).split(\",\")\n",
    "        ingredients = [ingredient.strip() for ingredient in ingredients]\n",
    "        all_ingredients.extend(ingredients)\n",
    "    ingredient_counts = Counter(all_ingredients)\n",
    "    return ingredient_counts\n",
    "\n",
    "ingredient_counts = process_ingredients_column(product_info['ingredients'])\n",
    "most_common_ingredients = ingredient_counts.most_common(20)"
   ]
  },
  {
   "cell_type": "code",
   "execution_count": 78,
   "id": "b7642dcf-a99c-4a23-b5da-1a1522dc6989",
   "metadata": {},
   "outputs": [
    {
     "name": "stdout",
     "output_type": "stream",
     "text": [
      "Most Common Ingredients: [('Glycerin', 3989), ('Phenoxyethanol', 3717), ('Caprylyl Glycol', 2600), ('Tocopherol', 2587), ('Limonene', 2420), ('Ethylhexylglycerin', 2255), ('Linalool', 2194), ('Butylene Glycol', 2183), ('Silica', 2172), ('Dimethicone', 2110), ('Citric Acid', 2108), ('Potassium Sorbate', 1751), ('Sodium Benzoate', 1639), ('Caprylic/Capric Triglyceride', 1630), ('Citronellol', 1578), ('Tocopheryl Acetate', 1578), ('Propanediol', 1533), ('Geraniol', 1508), ('Sodium Hyaluronate', 1469), ('Citral', 1285)]\n"
     ]
    }
   ],
   "source": [
    "# finding the top 20 common ingredients\n",
    "print(\"Most Common Ingredients:\", most_common_ingredients)"
   ]
  },
  {
   "cell_type": "code",
   "execution_count": 79,
   "id": "cd077c96-0ed5-4f99-b913-ccb73daededd",
   "metadata": {},
   "outputs": [
    {
     "data": {
      "text/html": [
       "<div>\n",
       "<style scoped>\n",
       "    .dataframe tbody tr th:only-of-type {\n",
       "        vertical-align: middle;\n",
       "    }\n",
       "\n",
       "    .dataframe tbody tr th {\n",
       "        vertical-align: top;\n",
       "    }\n",
       "\n",
       "    .dataframe thead th {\n",
       "        text-align: right;\n",
       "    }\n",
       "</style>\n",
       "<table border=\"1\" class=\"dataframe\">\n",
       "  <thead>\n",
       "    <tr style=\"text-align: right;\">\n",
       "      <th></th>\n",
       "      <th>product_id</th>\n",
       "      <th>primary_category</th>\n",
       "      <th>secondary_category</th>\n",
       "      <th>tertiary_category</th>\n",
       "      <th>ingredient</th>\n",
       "    </tr>\n",
       "  </thead>\n",
       "  <tbody>\n",
       "    <tr>\n",
       "      <th>0</th>\n",
       "      <td>P473671</td>\n",
       "      <td>Fragrance</td>\n",
       "      <td>Value &amp; Gift Sets</td>\n",
       "      <td>Perfume Gift Sets</td>\n",
       "      <td>'Capri Eau de Parfum:'</td>\n",
       "    </tr>\n",
       "    <tr>\n",
       "      <th>1</th>\n",
       "      <td>P473671</td>\n",
       "      <td>Fragrance</td>\n",
       "      <td>Value &amp; Gift Sets</td>\n",
       "      <td>Perfume Gift Sets</td>\n",
       "      <td>'Alcohol Denat. (SD Alcohol 39C)</td>\n",
       "    </tr>\n",
       "    <tr>\n",
       "      <th>2</th>\n",
       "      <td>P473671</td>\n",
       "      <td>Fragrance</td>\n",
       "      <td>Value &amp; Gift Sets</td>\n",
       "      <td>Perfume Gift Sets</td>\n",
       "      <td>Parfum (Fragrance) D-Limonene</td>\n",
       "    </tr>\n",
       "    <tr>\n",
       "      <th>3</th>\n",
       "      <td>P473671</td>\n",
       "      <td>Fragrance</td>\n",
       "      <td>Value &amp; Gift Sets</td>\n",
       "      <td>Perfume Gift Sets</td>\n",
       "      <td>Linalool</td>\n",
       "    </tr>\n",
       "    <tr>\n",
       "      <th>4</th>\n",
       "      <td>P473671</td>\n",
       "      <td>Fragrance</td>\n",
       "      <td>Value &amp; Gift Sets</td>\n",
       "      <td>Perfume Gift Sets</td>\n",
       "      <td>Benzyl Salicylate</td>\n",
       "    </tr>\n",
       "  </tbody>\n",
       "</table>\n",
       "</div>"
      ],
      "text/plain": [
       "  product_id primary_category secondary_category  tertiary_category  \\\n",
       "0    P473671        Fragrance  Value & Gift Sets  Perfume Gift Sets   \n",
       "1    P473671        Fragrance  Value & Gift Sets  Perfume Gift Sets   \n",
       "2    P473671        Fragrance  Value & Gift Sets  Perfume Gift Sets   \n",
       "3    P473671        Fragrance  Value & Gift Sets  Perfume Gift Sets   \n",
       "4    P473671        Fragrance  Value & Gift Sets  Perfume Gift Sets   \n",
       "\n",
       "                         ingredient  \n",
       "0            'Capri Eau de Parfum:'  \n",
       "1  'Alcohol Denat. (SD Alcohol 39C)  \n",
       "2     Parfum (Fragrance) D-Limonene  \n",
       "3                          Linalool  \n",
       "4                 Benzyl Salicylate  "
      ]
     },
     "execution_count": 79,
     "metadata": {},
     "output_type": "execute_result"
    }
   ],
   "source": [
    "# Create a DataFrame with expanded ingredients for each product\n",
    "expanded_ingredients = []\n",
    "for index, row in product_info.iterrows():\n",
    "    if pd.isna(row['ingredients']):\n",
    "        continue\n",
    "    ingredients = re.sub(r\"[\\[\\]]\", \"\", row['ingredients']).split(\",\")\n",
    "    for ingredient in ingredients:\n",
    "        expanded_ingredients.append({\n",
    "            \"product_id\": row[\"product_id\"],\n",
    "            \"primary_category\": row[\"primary_category\"],\n",
    "            \"secondary_category\": row[\"secondary_category\"],\n",
    "            \"tertiary_category\": row[\"tertiary_category\"],\n",
    "            \"ingredient\": ingredient.strip()\n",
    "        })\n",
    "\n",
    "ingredients_df = pd.DataFrame(expanded_ingredients)\n",
    "\n",
    "ingredients_df.head()"
   ]
  },
  {
   "cell_type": "code",
   "execution_count": 80,
   "id": "7d4201d9-16a5-4322-9fc1-afafa8c3aadf",
   "metadata": {
    "scrolled": true
   },
   "outputs": [
    {
     "data": {
      "text/html": [
       "<div>\n",
       "<style scoped>\n",
       "    .dataframe tbody tr th:only-of-type {\n",
       "        vertical-align: middle;\n",
       "    }\n",
       "\n",
       "    .dataframe tbody tr th {\n",
       "        vertical-align: top;\n",
       "    }\n",
       "\n",
       "    .dataframe thead th {\n",
       "        text-align: right;\n",
       "    }\n",
       "</style>\n",
       "<table border=\"1\" class=\"dataframe\">\n",
       "  <thead>\n",
       "    <tr style=\"text-align: right;\">\n",
       "      <th></th>\n",
       "      <th>primary_category</th>\n",
       "      <th>ingredient</th>\n",
       "      <th>count</th>\n",
       "    </tr>\n",
       "  </thead>\n",
       "  <tbody>\n",
       "    <tr>\n",
       "      <th>980</th>\n",
       "      <td>Bath &amp; Body</td>\n",
       "      <td>Glycerin</td>\n",
       "      <td>225</td>\n",
       "    </tr>\n",
       "    <tr>\n",
       "      <th>2156</th>\n",
       "      <td>Bath &amp; Body</td>\n",
       "      <td>Tocopherol</td>\n",
       "      <td>140</td>\n",
       "    </tr>\n",
       "    <tr>\n",
       "      <th>1269</th>\n",
       "      <td>Bath &amp; Body</td>\n",
       "      <td>Limonene</td>\n",
       "      <td>138</td>\n",
       "    </tr>\n",
       "    <tr>\n",
       "      <th>1625</th>\n",
       "      <td>Bath &amp; Body</td>\n",
       "      <td>Phenoxyethanol</td>\n",
       "      <td>136</td>\n",
       "    </tr>\n",
       "    <tr>\n",
       "      <th>640</th>\n",
       "      <td>Bath &amp; Body</td>\n",
       "      <td>Citric Acid</td>\n",
       "      <td>114</td>\n",
       "    </tr>\n",
       "    <tr>\n",
       "      <th>1271</th>\n",
       "      <td>Bath &amp; Body</td>\n",
       "      <td>Linalool</td>\n",
       "      <td>112</td>\n",
       "    </tr>\n",
       "    <tr>\n",
       "      <th>566</th>\n",
       "      <td>Bath &amp; Body</td>\n",
       "      <td>Cetearyl Alcohol</td>\n",
       "      <td>105</td>\n",
       "    </tr>\n",
       "    <tr>\n",
       "      <th>495</th>\n",
       "      <td>Bath &amp; Body</td>\n",
       "      <td>Caprylic/Capric Triglyceride</td>\n",
       "      <td>104</td>\n",
       "    </tr>\n",
       "    <tr>\n",
       "      <th>889</th>\n",
       "      <td>Bath &amp; Body</td>\n",
       "      <td>Ethylhexylglycerin</td>\n",
       "      <td>99</td>\n",
       "    </tr>\n",
       "    <tr>\n",
       "      <th>646</th>\n",
       "      <td>Bath &amp; Body</td>\n",
       "      <td>Citronellol</td>\n",
       "      <td>93</td>\n",
       "    </tr>\n",
       "    <tr>\n",
       "      <th>507</th>\n",
       "      <td>Bath &amp; Body</td>\n",
       "      <td>Caprylyl Glycol</td>\n",
       "      <td>87</td>\n",
       "    </tr>\n",
       "    <tr>\n",
       "      <th>2264</th>\n",
       "      <td>Bath &amp; Body</td>\n",
       "      <td>Xanthan Gum</td>\n",
       "      <td>87</td>\n",
       "    </tr>\n",
       "    <tr>\n",
       "      <th>964</th>\n",
       "      <td>Bath &amp; Body</td>\n",
       "      <td>Geraniol</td>\n",
       "      <td>84</td>\n",
       "    </tr>\n",
       "    <tr>\n",
       "      <th>1034</th>\n",
       "      <td>Bath &amp; Body</td>\n",
       "      <td>Helianthus Annuus (Sunflower) Seed Oil</td>\n",
       "      <td>76</td>\n",
       "    </tr>\n",
       "    <tr>\n",
       "      <th>391</th>\n",
       "      <td>Bath &amp; Body</td>\n",
       "      <td>Butyrospermum Parkii (Shea) Butter</td>\n",
       "      <td>75</td>\n",
       "    </tr>\n",
       "    <tr>\n",
       "      <th>1984</th>\n",
       "      <td>Bath &amp; Body</td>\n",
       "      <td>Sodium Hydroxide</td>\n",
       "      <td>75</td>\n",
       "    </tr>\n",
       "    <tr>\n",
       "      <th>991</th>\n",
       "      <td>Bath &amp; Body</td>\n",
       "      <td>Glyceryl Stearate</td>\n",
       "      <td>74</td>\n",
       "    </tr>\n",
       "    <tr>\n",
       "      <th>823</th>\n",
       "      <td>Bath &amp; Body</td>\n",
       "      <td>Dimethicone</td>\n",
       "      <td>72</td>\n",
       "    </tr>\n",
       "    <tr>\n",
       "      <th>1561</th>\n",
       "      <td>Bath &amp; Body</td>\n",
       "      <td>Parfum (Fragrance)</td>\n",
       "      <td>69</td>\n",
       "    </tr>\n",
       "    <tr>\n",
       "      <th>1728</th>\n",
       "      <td>Bath &amp; Body</td>\n",
       "      <td>Potassium Sorbate</td>\n",
       "      <td>67</td>\n",
       "    </tr>\n",
       "  </tbody>\n",
       "</table>\n",
       "</div>"
      ],
      "text/plain": [
       "     primary_category                              ingredient  count\n",
       "980       Bath & Body                                Glycerin    225\n",
       "2156      Bath & Body                              Tocopherol    140\n",
       "1269      Bath & Body                                Limonene    138\n",
       "1625      Bath & Body                          Phenoxyethanol    136\n",
       "640       Bath & Body                             Citric Acid    114\n",
       "1271      Bath & Body                                Linalool    112\n",
       "566       Bath & Body                        Cetearyl Alcohol    105\n",
       "495       Bath & Body            Caprylic/Capric Triglyceride    104\n",
       "889       Bath & Body                      Ethylhexylglycerin     99\n",
       "646       Bath & Body                             Citronellol     93\n",
       "507       Bath & Body                         Caprylyl Glycol     87\n",
       "2264      Bath & Body                             Xanthan Gum     87\n",
       "964       Bath & Body                                Geraniol     84\n",
       "1034      Bath & Body  Helianthus Annuus (Sunflower) Seed Oil     76\n",
       "391       Bath & Body      Butyrospermum Parkii (Shea) Butter     75\n",
       "1984      Bath & Body                        Sodium Hydroxide     75\n",
       "991       Bath & Body                       Glyceryl Stearate     74\n",
       "823       Bath & Body                             Dimethicone     72\n",
       "1561      Bath & Body                      Parfum (Fragrance)     69\n",
       "1728      Bath & Body                       Potassium Sorbate     67"
      ]
     },
     "execution_count": 80,
     "metadata": {},
     "output_type": "execute_result"
    }
   ],
   "source": [
    "# Group ingredients by primary category\n",
    "grouped_ingredients = ingredients_df.groupby([\"primary_category\", \"ingredient\"]).size().reset_index(name=\"count\")\n",
    "grouped_ingredients = grouped_ingredients.sort_values(by=[\"primary_category\", \"count\"], ascending=[True, False])\n",
    "grouped_ingredients.head(20)"
   ]
  },
  {
   "cell_type": "code",
   "execution_count": 81,
   "id": "c91f8f9b-89c3-4304-9a3a-5b252205840f",
   "metadata": {},
   "outputs": [],
   "source": [
    "grouped_ingredients.to_csv(\"ingredients_by_category.csv\", index=False)"
   ]
  }
 ],
 "metadata": {
  "kernelspec": {
   "display_name": "Python [conda env:base] *",
   "language": "python",
   "name": "conda-base-py"
  },
  "language_info": {
   "codemirror_mode": {
    "name": "ipython",
    "version": 3
   },
   "file_extension": ".py",
   "mimetype": "text/x-python",
   "name": "python",
   "nbconvert_exporter": "python",
   "pygments_lexer": "ipython3",
   "version": "3.12.2"
  }
 },
 "nbformat": 4,
 "nbformat_minor": 5
}
